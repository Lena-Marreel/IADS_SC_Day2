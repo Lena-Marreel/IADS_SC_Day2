{
  "cells": [
    {
      "cell_type": "markdown",
      "id": "b9ad028a",
      "metadata": {
        "id": "b9ad028a"
      },
      "source": [
        "# Introduction to Scikit-learn (sklearn) Datasets\n",
        "\n",
        "## Plus doing linear and polynomial regression using Scikit-learn\n",
        "\n",
        "- Michael Fairbank 2022\n",
        "- The purpose of this notebook is to teach the basics of using Sklearn to do data fitting and inspect the results."
      ]
    },
    {
      "cell_type": "code",
      "execution_count": 1,
      "id": "eec1c33c",
      "metadata": {
        "id": "eec1c33c"
      },
      "outputs": [],
      "source": [
        "import pandas as pd\n",
        "import numpy as np\n",
        "from sklearn import datasets"
      ]
    },
    {
      "cell_type": "markdown",
      "id": "99267bc8",
      "metadata": {
        "id": "99267bc8"
      },
      "source": [
        "The Scikit-learn package comes with some standard datasets.  We will load the \"diabetes\" dataset as a dataframe."
      ]
    },
    {
      "cell_type": "code",
      "execution_count": 20,
      "id": "48ccfe4b",
      "metadata": {
        "colab": {
          "base_uri": "https://localhost:8080/"
        },
        "id": "48ccfe4b",
        "outputId": "b51a81b6-cf95-4504-b262-a460d55b0f16"
      },
      "outputs": [
        {
          "output_type": "stream",
          "name": "stdout",
          "text": [
            ".. _diabetes_dataset:\n",
            "\n",
            "Diabetes dataset\n",
            "----------------\n",
            "\n",
            "Ten baseline variables, age, sex, body mass index, average blood\n",
            "pressure, and six blood serum measurements were obtained for each of n =\n",
            "442 diabetes patients, as well as the response of interest, a\n",
            "quantitative measure of disease progression one year after baseline.\n",
            "\n",
            "**Data Set Characteristics:**\n",
            "\n",
            "  :Number of Instances: 442\n",
            "\n",
            "  :Number of Attributes: First 10 columns are numeric predictive values\n",
            "\n",
            "  :Target: Column 11 is a quantitative measure of disease progression one year after baseline\n",
            "\n",
            "  :Attribute Information:\n",
            "      - age     age in years\n",
            "      - sex\n",
            "      - bmi     body mass index\n",
            "      - bp      average blood pressure\n",
            "      - s1      tc, total serum cholesterol\n",
            "      - s2      ldl, low-density lipoproteins\n",
            "      - s3      hdl, high-density lipoproteins\n",
            "      - s4      tch, total cholesterol / HDL\n",
            "      - s5      ltg, possibly log of serum triglycerides level\n",
            "      - s6      glu, blood sugar level\n",
            "\n",
            "Note: Each of these 10 feature variables have been mean centered and scaled by the standard deviation times `n_samples` (i.e. the sum of squares of each column totals 1).\n",
            "\n",
            "Source URL:\n",
            "https://www4.stat.ncsu.edu/~boos/var.select/diabetes.html\n",
            "\n",
            "For more information see:\n",
            "Bradley Efron, Trevor Hastie, Iain Johnstone and Robert Tibshirani (2004) \"Least Angle Regression,\" Annals of Statistics (with discussion), 407-499.\n",
            "(https://web.stanford.edu/~hastie/Papers/LARS/LeastAngle_2002.pdf)\n"
          ]
        }
      ],
      "source": [
        "diabetes=datasets.load_diabetes(as_frame=True)\n",
        "#print(diabetes)\n",
        "print(diabetes.DESCR)\n"
      ]
    },
    {
      "cell_type": "markdown",
      "id": "4abaabd9",
      "metadata": {
        "id": "4abaabd9"
      },
      "source": [
        "As you see the loaded diabetes variable is a dictionary.  \n",
        "- Alter the code above to just print out the \"diabetes.DESCR\" field to learn about what the diabetes dataset consists of."
      ]
    },
    {
      "cell_type": "markdown",
      "id": "41574b87",
      "metadata": {
        "id": "41574b87"
      },
      "source": [
        "The \"diabetes.data\" field contains the dataframe.   But this omits the data targets - the code below adds this \"target\" column into the dataframe, so we can work with it more easily."
      ]
    },
    {
      "cell_type": "code",
      "execution_count": 4,
      "id": "9dfa4491",
      "metadata": {
        "colab": {
          "base_uri": "https://localhost:8080/",
          "height": 232
        },
        "id": "9dfa4491",
        "outputId": "ff8e53ef-2ff6-40f5-f55a-eac811b0a329"
      },
      "outputs": [
        {
          "output_type": "execute_result",
          "data": {
            "text/plain": [
              "        age       sex       bmi        bp        s1        s2        s3  \\\n",
              "0  0.038076  0.050680  0.061696  0.021872 -0.044223 -0.034821 -0.043401   \n",
              "1 -0.001882 -0.044642 -0.051474 -0.026328 -0.008449 -0.019163  0.074412   \n",
              "2  0.085299  0.050680  0.044451 -0.005671 -0.045599 -0.034194 -0.032356   \n",
              "3 -0.089063 -0.044642 -0.011595 -0.036656  0.012191  0.024991 -0.036038   \n",
              "4  0.005383 -0.044642 -0.036385  0.021872  0.003935  0.015596  0.008142   \n",
              "\n",
              "         s4        s5        s6  disease_progression  \n",
              "0 -0.002592  0.019908 -0.017646                151.0  \n",
              "1 -0.039493 -0.068330 -0.092204                 75.0  \n",
              "2 -0.002592  0.002864 -0.025930                141.0  \n",
              "3  0.034309  0.022692 -0.009362                206.0  \n",
              "4 -0.002592 -0.031991 -0.046641                135.0  "
            ],
            "text/html": [
              "\n",
              "  <div id=\"df-82d0de4f-6258-465d-8e2a-cb93a738b0a4\">\n",
              "    <div class=\"colab-df-container\">\n",
              "      <div>\n",
              "<style scoped>\n",
              "    .dataframe tbody tr th:only-of-type {\n",
              "        vertical-align: middle;\n",
              "    }\n",
              "\n",
              "    .dataframe tbody tr th {\n",
              "        vertical-align: top;\n",
              "    }\n",
              "\n",
              "    .dataframe thead th {\n",
              "        text-align: right;\n",
              "    }\n",
              "</style>\n",
              "<table border=\"1\" class=\"dataframe\">\n",
              "  <thead>\n",
              "    <tr style=\"text-align: right;\">\n",
              "      <th></th>\n",
              "      <th>age</th>\n",
              "      <th>sex</th>\n",
              "      <th>bmi</th>\n",
              "      <th>bp</th>\n",
              "      <th>s1</th>\n",
              "      <th>s2</th>\n",
              "      <th>s3</th>\n",
              "      <th>s4</th>\n",
              "      <th>s5</th>\n",
              "      <th>s6</th>\n",
              "      <th>disease_progression</th>\n",
              "    </tr>\n",
              "  </thead>\n",
              "  <tbody>\n",
              "    <tr>\n",
              "      <th>0</th>\n",
              "      <td>0.038076</td>\n",
              "      <td>0.050680</td>\n",
              "      <td>0.061696</td>\n",
              "      <td>0.021872</td>\n",
              "      <td>-0.044223</td>\n",
              "      <td>-0.034821</td>\n",
              "      <td>-0.043401</td>\n",
              "      <td>-0.002592</td>\n",
              "      <td>0.019908</td>\n",
              "      <td>-0.017646</td>\n",
              "      <td>151.0</td>\n",
              "    </tr>\n",
              "    <tr>\n",
              "      <th>1</th>\n",
              "      <td>-0.001882</td>\n",
              "      <td>-0.044642</td>\n",
              "      <td>-0.051474</td>\n",
              "      <td>-0.026328</td>\n",
              "      <td>-0.008449</td>\n",
              "      <td>-0.019163</td>\n",
              "      <td>0.074412</td>\n",
              "      <td>-0.039493</td>\n",
              "      <td>-0.068330</td>\n",
              "      <td>-0.092204</td>\n",
              "      <td>75.0</td>\n",
              "    </tr>\n",
              "    <tr>\n",
              "      <th>2</th>\n",
              "      <td>0.085299</td>\n",
              "      <td>0.050680</td>\n",
              "      <td>0.044451</td>\n",
              "      <td>-0.005671</td>\n",
              "      <td>-0.045599</td>\n",
              "      <td>-0.034194</td>\n",
              "      <td>-0.032356</td>\n",
              "      <td>-0.002592</td>\n",
              "      <td>0.002864</td>\n",
              "      <td>-0.025930</td>\n",
              "      <td>141.0</td>\n",
              "    </tr>\n",
              "    <tr>\n",
              "      <th>3</th>\n",
              "      <td>-0.089063</td>\n",
              "      <td>-0.044642</td>\n",
              "      <td>-0.011595</td>\n",
              "      <td>-0.036656</td>\n",
              "      <td>0.012191</td>\n",
              "      <td>0.024991</td>\n",
              "      <td>-0.036038</td>\n",
              "      <td>0.034309</td>\n",
              "      <td>0.022692</td>\n",
              "      <td>-0.009362</td>\n",
              "      <td>206.0</td>\n",
              "    </tr>\n",
              "    <tr>\n",
              "      <th>4</th>\n",
              "      <td>0.005383</td>\n",
              "      <td>-0.044642</td>\n",
              "      <td>-0.036385</td>\n",
              "      <td>0.021872</td>\n",
              "      <td>0.003935</td>\n",
              "      <td>0.015596</td>\n",
              "      <td>0.008142</td>\n",
              "      <td>-0.002592</td>\n",
              "      <td>-0.031991</td>\n",
              "      <td>-0.046641</td>\n",
              "      <td>135.0</td>\n",
              "    </tr>\n",
              "  </tbody>\n",
              "</table>\n",
              "</div>\n",
              "      <button class=\"colab-df-convert\" onclick=\"convertToInteractive('df-82d0de4f-6258-465d-8e2a-cb93a738b0a4')\"\n",
              "              title=\"Convert this dataframe to an interactive table.\"\n",
              "              style=\"display:none;\">\n",
              "        \n",
              "  <svg xmlns=\"http://www.w3.org/2000/svg\" height=\"24px\"viewBox=\"0 0 24 24\"\n",
              "       width=\"24px\">\n",
              "    <path d=\"M0 0h24v24H0V0z\" fill=\"none\"/>\n",
              "    <path d=\"M18.56 5.44l.94 2.06.94-2.06 2.06-.94-2.06-.94-.94-2.06-.94 2.06-2.06.94zm-11 1L8.5 8.5l.94-2.06 2.06-.94-2.06-.94L8.5 2.5l-.94 2.06-2.06.94zm10 10l.94 2.06.94-2.06 2.06-.94-2.06-.94-.94-2.06-.94 2.06-2.06.94z\"/><path d=\"M17.41 7.96l-1.37-1.37c-.4-.4-.92-.59-1.43-.59-.52 0-1.04.2-1.43.59L10.3 9.45l-7.72 7.72c-.78.78-.78 2.05 0 2.83L4 21.41c.39.39.9.59 1.41.59.51 0 1.02-.2 1.41-.59l7.78-7.78 2.81-2.81c.8-.78.8-2.07 0-2.86zM5.41 20L4 18.59l7.72-7.72 1.47 1.35L5.41 20z\"/>\n",
              "  </svg>\n",
              "      </button>\n",
              "      \n",
              "  <style>\n",
              "    .colab-df-container {\n",
              "      display:flex;\n",
              "      flex-wrap:wrap;\n",
              "      gap: 12px;\n",
              "    }\n",
              "\n",
              "    .colab-df-convert {\n",
              "      background-color: #E8F0FE;\n",
              "      border: none;\n",
              "      border-radius: 50%;\n",
              "      cursor: pointer;\n",
              "      display: none;\n",
              "      fill: #1967D2;\n",
              "      height: 32px;\n",
              "      padding: 0 0 0 0;\n",
              "      width: 32px;\n",
              "    }\n",
              "\n",
              "    .colab-df-convert:hover {\n",
              "      background-color: #E2EBFA;\n",
              "      box-shadow: 0px 1px 2px rgba(60, 64, 67, 0.3), 0px 1px 3px 1px rgba(60, 64, 67, 0.15);\n",
              "      fill: #174EA6;\n",
              "    }\n",
              "\n",
              "    [theme=dark] .colab-df-convert {\n",
              "      background-color: #3B4455;\n",
              "      fill: #D2E3FC;\n",
              "    }\n",
              "\n",
              "    [theme=dark] .colab-df-convert:hover {\n",
              "      background-color: #434B5C;\n",
              "      box-shadow: 0px 1px 3px 1px rgba(0, 0, 0, 0.15);\n",
              "      filter: drop-shadow(0px 1px 2px rgba(0, 0, 0, 0.3));\n",
              "      fill: #FFFFFF;\n",
              "    }\n",
              "  </style>\n",
              "\n",
              "      <script>\n",
              "        const buttonEl =\n",
              "          document.querySelector('#df-82d0de4f-6258-465d-8e2a-cb93a738b0a4 button.colab-df-convert');\n",
              "        buttonEl.style.display =\n",
              "          google.colab.kernel.accessAllowed ? 'block' : 'none';\n",
              "\n",
              "        async function convertToInteractive(key) {\n",
              "          const element = document.querySelector('#df-82d0de4f-6258-465d-8e2a-cb93a738b0a4');\n",
              "          const dataTable =\n",
              "            await google.colab.kernel.invokeFunction('convertToInteractive',\n",
              "                                                     [key], {});\n",
              "          if (!dataTable) return;\n",
              "\n",
              "          const docLinkHtml = 'Like what you see? Visit the ' +\n",
              "            '<a target=\"_blank\" href=https://colab.research.google.com/notebooks/data_table.ipynb>data table notebook</a>'\n",
              "            + ' to learn more about interactive tables.';\n",
              "          element.innerHTML = '';\n",
              "          dataTable['output_type'] = 'display_data';\n",
              "          await google.colab.output.renderOutput(dataTable, element);\n",
              "          const docLink = document.createElement('div');\n",
              "          docLink.innerHTML = docLinkHtml;\n",
              "          element.appendChild(docLink);\n",
              "        }\n",
              "      </script>\n",
              "    </div>\n",
              "  </div>\n",
              "  "
            ]
          },
          "metadata": {},
          "execution_count": 4
        }
      ],
      "source": [
        "df=diabetes.data\n",
        "df[\"disease_progression\"]=diabetes.target\n",
        "diabetes.data.head() # give top 5 rows of data frame"
      ]
    },
    {
      "cell_type": "markdown",
      "id": "7999cb32",
      "metadata": {
        "id": "7999cb32"
      },
      "source": [
        "## Question: \n",
        "- How many rows of data are there in the diabetes dataset?\n",
        "\n",
        "**ANSWER** \\\n",
        "442 Rows. You get this via print(diabetes) \n",
        "print(diabetes.DESCR) names rows as ' nr of instances'\n"
      ]
    },
    {
      "cell_type": "markdown",
      "id": "b4ef0788",
      "metadata": {
        "id": "b4ef0788"
      },
      "source": [
        "## Linear Regression, using a test set\n",
        "\n",
        "We'll do a regression task on two of the columns, i.e. bmi versus disease_progression, to investigate if there is a link.\n",
        "\n",
        "- When training a regression model (or any machine-learning model), it's a good idea to only train on a subset of the data (the \"training set\") and keep part of the data separate to test on later (the \"test set\" or \"validation set\")\n",
        "\n",
        "- We'll hold out the last 60 data points for the testing set:"
      ]
    },
    {
      "cell_type": "code",
      "execution_count": 21,
      "id": "1277e3e2",
      "metadata": {
        "id": "1277e3e2"
      },
      "outputs": [],
      "source": [
        "# Use only one feature\n",
        "diabetes_X = np.reshape(df[[\"bmi\"]].values,[-1,1])\n",
        "#diabetes_X=np.concatenate([diabetes_X,diabetes_X**2],axis=1)\n",
        "diabetes_y = df[\"disease_progression\"].values\n",
        "\n",
        "# Split the data into training/testing sets\n",
        "diabetes_X_train = diabetes_X[:-60]\n",
        "diabetes_X_test = diabetes_X[-60:]\n",
        "\n",
        "# Split the targets into training/testing sets\n",
        "diabetes_y_train = diabetes_y[:-60]\n",
        "diabetes_y_test = diabetes_y[-60:]"
      ]
    },
    {
      "cell_type": "markdown",
      "id": "cc3b0cc3",
      "metadata": {
        "id": "cc3b0cc3"
      },
      "source": [
        "Plot our training and test data points:"
      ]
    },
    {
      "cell_type": "code",
      "execution_count": 22,
      "id": "e5a2b5a2",
      "metadata": {
        "colab": {
          "base_uri": "https://localhost:8080/",
          "height": 279
        },
        "id": "e5a2b5a2",
        "outputId": "f40867eb-ec7d-459e-acdc-ba87d622ab72"
      },
      "outputs": [
        {
          "output_type": "display_data",
          "data": {
            "text/plain": [
              "<Figure size 432x288 with 1 Axes>"
            ],
            "image/png": "[encoded data removed]"
          },
          "metadata": {
            "needs_background": "light"
          }
        }
      ],
      "source": [
        "import matplotlib.pyplot as plt\n",
        "# Plot outputs\n",
        "plt.scatter(diabetes_X_test[:,0], diabetes_y_test, label=\"test\")\n",
        "plt.scatter(diabetes_X_train[:,0], diabetes_y_train, label=\"train\")\n",
        "plt.xlabel(\"BMI\")\n",
        "plt.ylabel(\"Disease Progression\")\n",
        "plt.grid()\n",
        "plt.legend()\n",
        "plt.show()"
      ]
    },
    {
      "cell_type": "markdown",
      "id": "cb417c2c",
      "metadata": {
        "id": "cb417c2c"
      },
      "source": [
        "Now we'll apply a very simple model (linear regression) to plot a straight line through the training points\n",
        "\n",
        "See https://scikit-learn.org/stable/modules/generated/sklearn.linear_model.LinearRegression.html for further details and options"
      ]
    },
    {
      "cell_type": "code",
      "execution_count": 26,
      "id": "8621f43a",
      "metadata": {
        "colab": {
          "base_uri": "https://localhost:8080/",
          "height": 314
        },
        "id": "8621f43a",
        "outputId": "81568cf9-8ef6-49c1-8cb8-9326d5b0a05b"
      },
      "outputs": [
        {
          "output_type": "stream",
          "name": "stdout",
          "text": [
            "Coefficients: \n",
            " [940.05574082] 152.80161883617347\n"
          ]
        },
        {
          "output_type": "display_data",
          "data": {
            "text/plain": [
              "<Figure size 432x288 with 1 Axes>"
            ],
            "image/png": "[encoded data removed]"
          },
          "metadata": {
            "needs_background": "light"
          }
        }
      ],
      "source": [
        "from sklearn import linear_model\n",
        "\n",
        "# Create linear regression object\n",
        "regr = linear_model.LinearRegression()\n",
        "\n",
        "# Train the model using the training sets\n",
        "regr.fit(diabetes_X_train, diabetes_y_train)\n",
        "  # get values on training set for questionair below\n",
        "diabetes_y_pred_train = regr.predict(diabetes_X_train)\n",
        "\n",
        "# Make predictions using the testing set\n",
        "diabetes_y_pred_test = regr.predict(diabetes_X_test)\n",
        "\n",
        "# The coefficients\n",
        "print(\"Coefficients: \\n\", regr.coef_, regr.intercept_)\n",
        "\n",
        "# Plot outputs\n",
        "plt.scatter(diabetes_X_test[:,0], diabetes_y_test, label=\"test\")\n",
        "x_range=np.linspace(diabetes_X_train.min(),diabetes_X_train.max(),50).reshape(-1, 1)\n",
        "plt.plot(x_range, regr.predict(x_range), color=\"blue\", linewidth=3) # Plot the regression line\n",
        "plt.xlabel(\"BMI\")\n",
        "plt.ylabel(\"Disease Progression\")\n",
        "plt.grid()\n",
        "plt.legend()\n",
        "\n",
        "plt.show()"
      ]
    },
    {
      "cell_type": "markdown",
      "id": "cf36f182",
      "metadata": {
        "id": "cf36f182"
      },
      "source": [
        "## Using metrics \n",
        "\n",
        "Scikit-learn includes metrics you can use to quantify how well your line-of-best fit fits the data.\n",
        "\n",
        "Note that mean-squared-error  is defined by $MSE=\\frac{1}{n}\\sum_{i=1}^n (y\\_pred(i)-y\\_true(i))^2$.\n",
        "\n",
        "The Coefficient of Determination is defined by $1-\\frac{MSE}{\\frac{1}{n}\\sum_{i=1}^n (y\\_true(i)-\\overline{y})^2$.}$, where $\\overline{y}$ is the average of $y\\_true$."
      ]
    },
    {
      "cell_type": "code",
      "execution_count": 28,
      "id": "59b1d414",
      "metadata": {
        "colab": {
          "base_uri": "https://localhost:8080/"
        },
        "id": "59b1d414",
        "outputId": "99addfff-4898-4af1-afee-f948c4dd0f01"
      },
      "outputs": [
        {
          "output_type": "stream",
          "name": "stdout",
          "text": [
            "For training set\n",
            "Mean squared error: 3954.01\n",
            "R2 Score (Coefficient of determination) on training set: 0.33\n",
            "For test set\n",
            "Mean squared error: 3490.60\n",
            "R2 Score (Coefficient of determination) on test set: 0.41\n"
          ]
        }
      ],
      "source": [
        "from sklearn.metrics import mean_squared_error, r2_score\n",
        "print(\"For training set\")\n",
        "print(\"Mean squared error: %.2f\" % mean_squared_error(diabetes_y_train, diabetes_y_pred_train))\n",
        "print(\"R2 Score (Coefficient of determination) on training set: %.2f\" % r2_score(diabetes_y_train, diabetes_y_pred_train))\n",
        "\n",
        "print(\"For test set\")\n",
        "# The mean squared error\n",
        "print(\"Mean squared error: %.2f\" % mean_squared_error(diabetes_y_test, diabetes_y_pred_test))\n",
        "# The coefficient of determination: 1 is perfect prediction\n",
        "print(\"R2 Score (Coefficient of determination) on test set: %.2f\" % r2_score(diabetes_y_test, diabetes_y_pred_test))\n",
        "\n"
      ]
    },
    {
      "cell_type": "markdown",
      "id": "77832629",
      "metadata": {
        "id": "77832629"
      },
      "source": [
        "## Questions \n",
        "\n",
        "- Modify the above code to print the metrics also on the training set, and compare the two. \n",
        "\n",
        "**ANSWER** For training set\\\n",
        "Mean squared error: 3954.01\\\n",
        "R2 Score (Coefficient of determination) on training set: 0.33\\\n",
        "For test set\\\n",
        "Mean squared error: 3490.60\\\n",
        "R2 Score (Coefficient of determination) on test set: 0.41\n",
        "- Which result is better - the test set or the training set. \n",
        "\n",
        "**ANSWER** Test set -> lower error value (MSE) and higher explained variability (R2).\n",
        "- What is the best possible value that Coefficient of Determination can ever be (in a perfect model)? \n",
        "\n",
        "**ANSWER** 1 = 100% of data variablity explained by model = 100% accurate predictions by model"
      ]
    },
    {
      "cell_type": "markdown",
      "id": "b10c0228",
      "metadata": {
        "id": "b10c0228"
      },
      "source": [
        "## Plotting predicted output versus true outputs\n",
        "\n",
        "If the predictions match the true labels, then all the pints of predicted output versus actual output should line up nicely on the line y=x.  \n",
        "\n",
        "- this is a nice trick for visualising something when there are more than 1 dimension in the input data (e.g. if we were doing multi-variate regression)\n"
      ]
    },
    {
      "cell_type": "code",
      "execution_count": 29,
      "id": "0ffc4484",
      "metadata": {
        "colab": {
          "base_uri": "https://localhost:8080/",
          "height": 296
        },
        "id": "0ffc4484",
        "outputId": "a286e4b0-f79d-4e1f-c4bd-204d8439b277"
      },
      "outputs": [
        {
          "output_type": "execute_result",
          "data": {
            "text/plain": [
              "<matplotlib.legend.Legend at 0x7f098cc1a510>"
            ]
          },
          "metadata": {},
          "execution_count": 29
        },
        {
          "output_type": "display_data",
          "data": {
            "text/plain": [
              "<Figure size 432x288 with 1 Axes>"
            ],
            "image/png": "[encoded data removed]"
          },
          "metadata": {
            "needs_background": "light"
          }
        }
      ],
      "source": [
        "y_range=np.linspace(diabetes_y_train.min(),diabetes_y_train.max(),50)\n",
        "# Plot outputs\n",
        "plt.scatter(diabetes_y_test, diabetes_y_pred_test, label=\"test\")\n",
        "plt.plot(y_range, y_range, label=\"y=x\")\n",
        "plt.xlabel(\"Actual Disease Progression\")\n",
        "plt.ylabel(\"Predicted Disease Progression\")\n",
        "plt.grid()\n",
        "plt.legend()\n",
        "\n"
      ]
    },
    {
      "cell_type": "markdown",
      "id": "9e869ced",
      "metadata": {
        "id": "9e869ced"
      },
      "source": [
        "## Polynomial regression\n",
        "\n",
        "We have just attempted linear regression, i.e. finding \"$y=mx+c$\" through the datapoints.\n",
        "\n",
        "- Now we can switch to polynomial regression.  This is finding an equation \"$y=m_1 x+m_2 x^2+m_3 x^3+c$\" through the datapoints.\n",
        "\n",
        "- Note that **polynomial regression is linear regression but where we use extra input features** $x$, $x^2$, $x^3$, ..."
      ]
    },
    {
      "cell_type": "code",
      "execution_count": 47,
      "id": "e0074b7e",
      "metadata": {
        "colab": {
          "base_uri": "https://localhost:8080/",
          "height": 453
        },
        "id": "e0074b7e",
        "outputId": "2a43ccdb-2fb1-403a-bd48-950bce31eca5"
      },
      "outputs": [
        {
          "output_type": "stream",
          "name": "stdout",
          "text": [
            "Coefficients Poly: \n",
            " [  1046.58255665    852.23070935 -26392.55482872  99494.08793227]\n",
            "intercept Poly: \n",
            " 150.9796283675837\n",
            "For training set\n",
            "Mean squared error trainPoly: 3940.60\n",
            "R2 Score trainPoly (Coefficient of determination) on test set: 0.34\n",
            "For test set\n",
            "Mean squared error testPoly: 3506.50\n",
            "R2 Score testPoly (Coefficient of determination) on test set: 0.41\n"
          ]
        },
        {
          "output_type": "display_data",
          "data": {
            "text/plain": [
              "<Figure size 432x288 with 1 Axes>"
            ],
            "image/png": "[encoded data removed]"
          },
          "metadata": {
            "needs_background": "light"
          }
        }
      ],
      "source": [
        "from sklearn.preprocessing import PolynomialFeatures\n",
        "poly = PolynomialFeatures(degree=4, include_bias=False) # Xth degree\n",
        "poly_features = poly.fit_transform(diabetes_X_train)\n",
        "\n",
        "# Create linear regression object\n",
        "regrPol = linear_model.LinearRegression()\n",
        "\n",
        "# Train the model using the training sets\n",
        "regrPol.fit(poly_features, diabetes_y_train)\n",
        "\n",
        "# Make predictions using the testing set\n",
        "diabetes_y_testPolpred = regrPol.predict(poly.fit_transform(diabetes_X_test))\n",
        "  # get values on training set for questionair below\n",
        "diabetes_y_trainPolpred = regrPol.predict(poly.fit_transform(diabetes_X_train))\n",
        "\n",
        "# The coefficients\n",
        "print(\"Coefficients Poly: \\n\", regrPol.coef_)\n",
        "print(\"intercept Poly: \\n\", regrPol.intercept_)\n",
        "\n",
        "print(\"For training set\")\n",
        "# The mean squared error\n",
        "print(\"Mean squared error trainPoly: %.2f\" % mean_squared_error(diabetes_y_train, diabetes_y_trainPolpred))\n",
        "# The coefficient of determination: 1 is perfect prediction\n",
        "print(\"R2 Score trainPoly (Coefficient of determination) on test set: %.2f\" % r2_score(diabetes_y_train, diabetes_y_trainPolpred))\n",
        "\n",
        "print(\"For test set\")\n",
        "# The mean squared error\n",
        "print(\"Mean squared error testPoly: %.2f\" % mean_squared_error(diabetes_y_test, diabetes_y_testPolpred))\n",
        "# The coefficient of determination: 1 is perfect prediction\n",
        "print(\"R2 Score testPoly (Coefficient of determination) on test set: %.2f\" % r2_score(diabetes_y_test, diabetes_y_testPolpred))\n",
        "\n",
        "# Plot outputs\n",
        "plt.scatter(diabetes_X_test[:,0], diabetes_y_test, label=\"test\")\n",
        "x_range=np.linspace(diabetes_X_train.min(),diabetes_X_train.max(),50).reshape(-1, 1)\n",
        "plt.plot(x_range, regrPol.predict(poly.fit_transform(x_range)), color=\"blue\", linewidth=3) # Plot the regression line\n",
        "plt.xlabel(\"BMI\")\n",
        "plt.ylabel(\"Disease Progression\")\n",
        "plt.grid()\n",
        "plt.legend()\n",
        "\n",
        "plt.show()"
      ]
    },
    {
      "cell_type": "markdown",
      "id": "c04d553f",
      "metadata": {
        "id": "c04d553f"
      },
      "source": [
        "## Questions:\n",
        "\n",
        "- Modify the code above to change the degree of the polynomial regression to 1, 2 and 5.\n",
        "- Modify the code to print separate metrics on the training and test sets.\n",
        "\n",
        "**ANSWER** N = 1 = linear regression above. Regardless of the N, R2 test = always .41. However RMSE does change and is lowest for N=1 in test.\n",
        "- If the degree of the polynomial is N, how many \"coefficients\" are printed in the code above?\n",
        "\n",
        "**ANSWER** nr of coefficient = N = nr of x in model/regression function\n",
        "- Modify the code above to also print the y-intercept for the regression curve.\n",
        "\n",
        "**ANSWER**  found on\n",
        "https://stackoverflow.com/questions/63867325/is-there-a-way-to-find-the-slope-and-the-y-intercept-of-the-best-fit-line-line\n",
        "I wonder how to find all those info points you can call up without having to google. \n",
        "also unclear what they mean with the y-intercept"
      ]
    },
    {
      "cell_type": "code",
      "source": [
        "dir(regrPol)# returns directory of what is inside object \n",
        "            # = the things inside the list you can call and have information\n",
        "            # NOTE not all of them are informative or can be called, but gives you idea\n",
        "# sklearn#(librabry) .preprocessing.#(package) PolynomialFeatures #object\n",
        "help(PolynomialFeatures) # F1 equivalent\n",
        "                         # was hoping it would tell what output list would look like \n",
        "                         # -> to avoid having to use dir()"
      ],
      "metadata": {
        "id": "ioEqmww3Kgfj",
        "outputId": "9a322e21-7095-4581-941c-d9843918f50d",
        "colab": {
          "base_uri": "https://localhost:8080/"
        }
      },
      "id": "ioEqmww3Kgfj",
      "execution_count": 52,
      "outputs": [
        {
          "output_type": "stream",
          "name": "stdout",
          "text": [
            "Help on class PolynomialFeatures in module sklearn.preprocessing._polynomial:\n",
            "\n",
            "class PolynomialFeatures(sklearn.base.TransformerMixin, sklearn.base.BaseEstimator)\n",
            " |  PolynomialFeatures(degree=2, *, interaction_only=False, include_bias=True, order='C')\n",
            " |  \n",
            " |  Generate polynomial and interaction features.\n",
            " |  \n",
            " |  Generate a new feature matrix consisting of all polynomial combinations\n",
            " |  of the features with degree less than or equal to the specified degree.\n",
            " |  For example, if an input sample is two dimensional and of the form\n",
            " |  [a, b], the degree-2 polynomial features are [1, a, b, a^2, ab, b^2].\n",
            " |  \n",
            " |  Read more in the :ref:`User Guide <polynomial_features>`.\n",
            " |  \n",
            " |  Parameters\n",
            " |  ----------\n",
            " |  degree : int or tuple (min_degree, max_degree), default=2\n",
            " |      If a single int is given, it specifies the maximal degree of the\n",
            " |      polynomial features. If a tuple `(min_degree, max_degree)` is passed,\n",
            " |      then `min_degree` is the minimum and `max_degree` is the maximum\n",
            " |      polynomial degree of the generated features. Note that `min_degree=0`\n",
            " |      and `min_degree=1` are equivalent as outputting the degree zero term is\n",
            " |      determined by `include_bias`.\n",
            " |  \n",
            " |  interaction_only : bool, default=False\n",
            " |      If `True`, only interaction features are produced: features that are\n",
            " |      products of at most `degree` *distinct* input features, i.e. terms with\n",
            " |      power of 2 or higher of the same input feature are excluded:\n",
            " |  \n",
            " |          - included: `x[0]`, `x[1]`, `x[0] * x[1]`, etc.\n",
            " |          - excluded: `x[0] ** 2`, `x[0] ** 2 * x[1]`, etc.\n",
            " |  \n",
            " |  include_bias : bool, default=True\n",
            " |      If `True` (default), then include a bias column, the feature in which\n",
            " |      all polynomial powers are zero (i.e. a column of ones - acts as an\n",
            " |      intercept term in a linear model).\n",
            " |  \n",
            " |  order : {'C', 'F'}, default='C'\n",
            " |      Order of output array in the dense case. `'F'` order is faster to\n",
            " |      compute, but may slow down subsequent estimators.\n",
            " |  \n",
            " |      .. versionadded:: 0.21\n",
            " |  \n",
            " |  Attributes\n",
            " |  ----------\n",
            " |  powers_ : ndarray of shape (`n_output_features_`, `n_features_in_`)\n",
            " |      `powers_[i, j]` is the exponent of the jth input in the ith output.\n",
            " |  \n",
            " |  n_input_features_ : int\n",
            " |      The total number of input features.\n",
            " |  \n",
            " |      .. deprecated:: 1.0\n",
            " |          This attribute is deprecated in 1.0 and will be removed in 1.2.\n",
            " |          Refer to `n_features_in_` instead.\n",
            " |  \n",
            " |  n_features_in_ : int\n",
            " |      Number of features seen during :term:`fit`.\n",
            " |  \n",
            " |      .. versionadded:: 0.24\n",
            " |  \n",
            " |  feature_names_in_ : ndarray of shape (`n_features_in_`,)\n",
            " |      Names of features seen during :term:`fit`. Defined only when `X`\n",
            " |      has feature names that are all strings.\n",
            " |  \n",
            " |      .. versionadded:: 1.0\n",
            " |  \n",
            " |  n_output_features_ : int\n",
            " |      The total number of polynomial output features. The number of output\n",
            " |      features is computed by iterating over all suitably sized combinations\n",
            " |      of input features.\n",
            " |  \n",
            " |  See Also\n",
            " |  --------\n",
            " |  SplineTransformer : Transformer that generates univariate B-spline bases\n",
            " |      for features.\n",
            " |  \n",
            " |  Notes\n",
            " |  -----\n",
            " |  Be aware that the number of features in the output array scales\n",
            " |  polynomially in the number of features of the input array, and\n",
            " |  exponentially in the degree. High degrees can cause overfitting.\n",
            " |  \n",
            " |  See :ref:`examples/linear_model/plot_polynomial_interpolation.py\n",
            " |  <sphx_glr_auto_examples_linear_model_plot_polynomial_interpolation.py>`\n",
            " |  \n",
            " |  Examples\n",
            " |  --------\n",
            " |  >>> import numpy as np\n",
            " |  >>> from sklearn.preprocessing import PolynomialFeatures\n",
            " |  >>> X = np.arange(6).reshape(3, 2)\n",
            " |  >>> X\n",
            " |  array([[0, 1],\n",
            " |         [2, 3],\n",
            " |         [4, 5]])\n",
            " |  >>> poly = PolynomialFeatures(2)\n",
            " |  >>> poly.fit_transform(X)\n",
            " |  array([[ 1.,  0.,  1.,  0.,  0.,  1.],\n",
            " |         [ 1.,  2.,  3.,  4.,  6.,  9.],\n",
            " |         [ 1.,  4.,  5., 16., 20., 25.]])\n",
            " |  >>> poly = PolynomialFeatures(interaction_only=True)\n",
            " |  >>> poly.fit_transform(X)\n",
            " |  array([[ 1.,  0.,  1.,  0.],\n",
            " |         [ 1.,  2.,  3.,  6.],\n",
            " |         [ 1.,  4.,  5., 20.]])\n",
            " |  \n",
            " |  Method resolution order:\n",
            " |      PolynomialFeatures\n",
            " |      sklearn.base.TransformerMixin\n",
            " |      sklearn.base.BaseEstimator\n",
            " |      builtins.object\n",
            " |  \n",
            " |  Methods defined here:\n",
            " |  \n",
            " |  __init__(self, degree=2, *, interaction_only=False, include_bias=True, order='C')\n",
            " |      Initialize self.  See help(type(self)) for accurate signature.\n",
            " |  \n",
            " |  fit(self, X, y=None)\n",
            " |      Compute number of output features.\n",
            " |      \n",
            " |      Parameters\n",
            " |      ----------\n",
            " |      X : {array-like, sparse matrix} of shape (n_samples, n_features)\n",
            " |          The data.\n",
            " |      \n",
            " |      y : Ignored\n",
            " |          Not used, present here for API consistency by convention.\n",
            " |      \n",
            " |      Returns\n",
            " |      -------\n",
            " |      self : object\n",
            " |          Fitted transformer.\n",
            " |  \n",
            " |  get_feature_names(self, input_features=None)\n",
            " |      DEPRECATED: get_feature_names is deprecated in 1.0 and will be removed in 1.2. Please use get_feature_names_out instead.\n",
            " |      \n",
            " |      Return feature names for output features.\n",
            " |      \n",
            " |          Parameters\n",
            " |          ----------\n",
            " |          input_features : list of str of shape (n_features,), default=None\n",
            " |              String names for input features if available. By default,\n",
            " |              \"x0\", \"x1\", ... \"xn_features\" is used.\n",
            " |      \n",
            " |          Returns\n",
            " |          -------\n",
            " |          output_feature_names : list of str of shape (n_output_features,)\n",
            " |              Transformed feature names.\n",
            " |  \n",
            " |  get_feature_names_out(self, input_features=None)\n",
            " |      Get output feature names for transformation.\n",
            " |      \n",
            " |      Parameters\n",
            " |      ----------\n",
            " |      input_features : array-like of str or None, default=None\n",
            " |          Input features.\n",
            " |      \n",
            " |          - If `input_features is None`, then `feature_names_in_` is\n",
            " |            used as feature names in. If `feature_names_in_` is not defined,\n",
            " |            then names are generated: `[x0, x1, ..., x(n_features_in_)]`.\n",
            " |          - If `input_features` is an array-like, then `input_features` must\n",
            " |            match `feature_names_in_` if `feature_names_in_` is defined.\n",
            " |      \n",
            " |      Returns\n",
            " |      -------\n",
            " |      feature_names_out : ndarray of str objects\n",
            " |          Transformed feature names.\n",
            " |  \n",
            " |  transform(self, X)\n",
            " |      Transform data to polynomial features.\n",
            " |      \n",
            " |      Parameters\n",
            " |      ----------\n",
            " |      X : {array-like, sparse matrix} of shape (n_samples, n_features)\n",
            " |          The data to transform, row by row.\n",
            " |      \n",
            " |          Prefer CSR over CSC for sparse input (for speed), but CSC is\n",
            " |          required if the degree is 4 or higher. If the degree is less than\n",
            " |          4 and the input format is CSC, it will be converted to CSR, have\n",
            " |          its polynomial features generated, then converted back to CSC.\n",
            " |      \n",
            " |          If the degree is 2 or 3, the method described in \"Leveraging\n",
            " |          Sparsity to Speed Up Polynomial Feature Expansions of CSR Matrices\n",
            " |          Using K-Simplex Numbers\" by Andrew Nystrom and John Hughes is\n",
            " |          used, which is much faster than the method used on CSC input. For\n",
            " |          this reason, a CSC input will be converted to CSR, and the output\n",
            " |          will be converted back to CSC prior to being returned, hence the\n",
            " |          preference of CSR.\n",
            " |      \n",
            " |      Returns\n",
            " |      -------\n",
            " |      XP : {ndarray, sparse matrix} of shape (n_samples, NP)\n",
            " |          The matrix of features, where `NP` is the number of polynomial\n",
            " |          features generated from the combination of inputs. If a sparse\n",
            " |          matrix is provided, it will be converted into a sparse\n",
            " |          `csr_matrix`.\n",
            " |  \n",
            " |  ----------------------------------------------------------------------\n",
            " |  Data descriptors defined here:\n",
            " |  \n",
            " |  n_input_features_\n",
            " |      DEPRECATED: The attribute `n_input_features_` was deprecated in version 1.0 and will be removed in 1.2.\n",
            " |  \n",
            " |  powers_\n",
            " |      Exponent for each of the inputs in the output.\n",
            " |  \n",
            " |  ----------------------------------------------------------------------\n",
            " |  Methods inherited from sklearn.base.TransformerMixin:\n",
            " |  \n",
            " |  fit_transform(self, X, y=None, **fit_params)\n",
            " |      Fit to data, then transform it.\n",
            " |      \n",
            " |      Fits transformer to `X` and `y` with optional parameters `fit_params`\n",
            " |      and returns a transformed version of `X`.\n",
            " |      \n",
            " |      Parameters\n",
            " |      ----------\n",
            " |      X : array-like of shape (n_samples, n_features)\n",
            " |          Input samples.\n",
            " |      \n",
            " |      y :  array-like of shape (n_samples,) or (n_samples, n_outputs),                 default=None\n",
            " |          Target values (None for unsupervised transformations).\n",
            " |      \n",
            " |      **fit_params : dict\n",
            " |          Additional fit parameters.\n",
            " |      \n",
            " |      Returns\n",
            " |      -------\n",
            " |      X_new : ndarray array of shape (n_samples, n_features_new)\n",
            " |          Transformed array.\n",
            " |  \n",
            " |  ----------------------------------------------------------------------\n",
            " |  Data descriptors inherited from sklearn.base.TransformerMixin:\n",
            " |  \n",
            " |  __dict__\n",
            " |      dictionary for instance variables (if defined)\n",
            " |  \n",
            " |  __weakref__\n",
            " |      list of weak references to the object (if defined)\n",
            " |  \n",
            " |  ----------------------------------------------------------------------\n",
            " |  Methods inherited from sklearn.base.BaseEstimator:\n",
            " |  \n",
            " |  __getstate__(self)\n",
            " |  \n",
            " |  __repr__(self, N_CHAR_MAX=700)\n",
            " |      Return repr(self).\n",
            " |  \n",
            " |  __setstate__(self, state)\n",
            " |  \n",
            " |  get_params(self, deep=True)\n",
            " |      Get parameters for this estimator.\n",
            " |      \n",
            " |      Parameters\n",
            " |      ----------\n",
            " |      deep : bool, default=True\n",
            " |          If True, will return the parameters for this estimator and\n",
            " |          contained subobjects that are estimators.\n",
            " |      \n",
            " |      Returns\n",
            " |      -------\n",
            " |      params : dict\n",
            " |          Parameter names mapped to their values.\n",
            " |  \n",
            " |  set_params(self, **params)\n",
            " |      Set the parameters of this estimator.\n",
            " |      \n",
            " |      The method works on simple estimators as well as on nested objects\n",
            " |      (such as :class:`~sklearn.pipeline.Pipeline`). The latter have\n",
            " |      parameters of the form ``<component>__<parameter>`` so that it's\n",
            " |      possible to update each component of a nested object.\n",
            " |      \n",
            " |      Parameters\n",
            " |      ----------\n",
            " |      **params : dict\n",
            " |          Estimator parameters.\n",
            " |      \n",
            " |      Returns\n",
            " |      -------\n",
            " |      self : estimator instance\n",
            " |          Estimator instance.\n",
            "\n"
          ]
        }
      ]
    },
    {
      "cell_type": "markdown",
      "id": "a5fef662",
      "metadata": {
        "id": "a5fef662"
      },
      "source": [
        "## Multiple input features (Multi-variate regression)\n",
        "\n",
        "Previosly we just looked at how one variable (BMI) correlates with another variable (Disease_progression).  \n",
        "\n",
        "Maybe we can do better at predicting disease progression if we use more than one input variable.    This leads us to try multivariate regression:"
      ]
    },
    {
      "cell_type": "code",
      "execution_count": null,
      "id": "8036b1ea",
      "metadata": {
        "id": "8036b1ea"
      },
      "outputs": [],
      "source": [
        "# Use only one feature\n",
        "diabetes_X3 = np.reshape(df[[\"bmi\",\"bp\",\"age\"]].values,[-1,3])\n",
        "#diabetes_X=np.concatenate([diabetes_X,diabetes_X**2],axis=1)\n",
        "diabetes_y = df[\"disease_progression\"].values\n",
        "\n",
        "# Split the data into training/testing sets\n",
        "diabetes_X3_train = diabetes_X3[:-60]\n",
        "diabetes_X3_test = diabetes_X3[-60:]\n",
        "\n",
        "# Split the targets into training/testing sets\n",
        "diabetes_y_train = diabetes_y[:-60]\n",
        "diabetes_y_test = diabetes_y[-60:]\n",
        "\n",
        "from sklearn.preprocessing import PolynomialFeatures\n",
        "poly = PolynomialFeatures(degree=1, include_bias=False)\n",
        "poly_features = poly.fit_transform(diabetes_X3_train)\n",
        "\n",
        "# Create linear regression object\n",
        "regr = linear_model.LinearRegression()\n",
        "\n",
        "# Train the model using the training sets\n",
        "regr.fit(poly_features, diabetes_y_train)\n",
        "\n",
        "# Make predictions using the testing set\n",
        "diabetes_y_pred_test = regr.predict(poly.fit_transform(diabetes_X3_test))\n",
        "diabetes_y_pred_train = regr.predict(poly.fit_transform(diabetes_X3_train))\n",
        "#x_range=np.linspace(diabetes_X_train.min(),diabetes_X_train.max(),50)\n",
        "\n",
        "# The coefficients\n",
        "print(\"Coefficients: \\n\", regr.coef_)\n",
        "# The mean squared error\n",
        "print(\"Mean squared error (test set): %.2f\" % mean_squared_error(diabetes_y_test, diabetes_y_pred_test))\n",
        "# The coefficient of determination: 1 is perfect prediction\n",
        "print(\"R2 Score (Coefficient of determination) (test set): %.2f\" % r2_score(diabetes_y_test, diabetes_y_pred_test))\n",
        "print(\"Mean squared error (training set): %.2f\" % mean_squared_error(diabetes_y_train, diabetes_y_pred_train))\n",
        "# The coefficient of determination: 1 is perfect prediction\n",
        "print(\"R2 Score (Coefficient of determination) (training set): %.2f\" % r2_score(diabetes_y_train, diabetes_y_pred_train))"
      ]
    },
    {
      "cell_type": "markdown",
      "id": "ca7c3e5d",
      "metadata": {
        "id": "ca7c3e5d"
      },
      "source": [
        "As multivariate regression requires higher dimensions to view the input plane, instead we'll just plot the output prediction versus actual prediction\n",
        "\n",
        "- and hope that they line up on $y=x$"
      ]
    },
    {
      "cell_type": "code",
      "execution_count": null,
      "id": "52e55bd1",
      "metadata": {
        "id": "52e55bd1"
      },
      "outputs": [],
      "source": [
        "y_range=np.linspace(diabetes_y_train.min(),diabetes_y_train.max(),50)\n",
        "# Plot outputs\n",
        "plt.scatter(diabetes_y_test, diabetes_y_pred_test, label=\"test\")\n",
        "plt.scatter(diabetes_y_train, diabetes_y_pred_train, label=\"train\")\n",
        "plt.plot(y_range, y_range, label=\"y=x\")\n",
        "plt.xlabel(\"Actual Disease Progression\")\n",
        "plt.ylabel(\"Predicted Disease Progression\")\n",
        "plt.grid()\n",
        "plt.legend()"
      ]
    },
    {
      "cell_type": "markdown",
      "id": "16e3cbc5",
      "metadata": {
        "id": "16e3cbc5"
      },
      "source": [
        "## Questions:\n",
        "\n",
        "- In general, are the metrics better on the test set or the training set?\n",
        "\n",
        "- For the polynomial regression method, try to plot a graph (below) of R2 Score on the y-axis versus the polynomial degree on the x-axis.  Show 2 curves, one for test set and one for training set.  Try to collect all of the data through polynomial degrees 1,2,3,4,5,6,7 in a single python for loop.\n",
        "\n",
        "- What is the best regression method you can find to get the best performance on the test set?"
      ]
    }
  ],
  "metadata": {
    "kernelspec": {
      "display_name": "Python 3 (ipykernel)",
      "language": "python",
      "name": "python3"
    },
    "language_info": {
      "codemirror_mode": {
        "name": "ipython",
        "version": 3
      },
      "file_extension": ".py",
      "mimetype": "text/x-python",
      "name": "python",
      "nbconvert_exporter": "python",
      "pygments_lexer": "ipython3",
      "version": "3.10.4"
    },
    "colab": {
      "name": "2 linear_regression_example_diabetes.ipynb",
      "provenance": []
    }
  },
  "nbformat": 4,
  "nbformat_minor": 5
}