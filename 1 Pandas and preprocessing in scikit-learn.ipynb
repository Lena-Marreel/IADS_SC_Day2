{
  "cells": [
    {
      "cell_type": "markdown",
      "metadata": {
        "id": "seyiqQq0JOOs"
      },
      "source": [
        "# Data preparation for machine learning"
      ]
    },
    {
      "cell_type": "markdown",
      "metadata": {
        "id": "fjMXprCfJOOx"
      },
      "source": [
        "By: Jacobo Fernandez-Vargas and Luca Citi\n",
        "\n",
        "Based on the [scikit-learn](http://scikit-learn.org/stable/tutorial/basic/tutorial.html) and [pandas](https://pandas.pydata.org/docs/getting_started/index.html) documentation"
      ]
    },
    {
      "cell_type": "markdown",
      "metadata": {
        "id": "2Kio-hX-JOOy"
      },
      "source": [
        "## Loading data with Pandas\n",
        "see bottom of this document = youtube video who explains a lot about using Pandas\n",
        "\n",
        "!! Pandas was modeled after using stuff in R"
      ]
    },
    {
      "cell_type": "markdown",
      "metadata": {
        "id": "ukD8EGORJOOy"
      },
      "source": [
        "Pandas is a powerful library used in data analysis. We are not going to explore all its options but only focus on those functionalities that allow us to read data that contains non-numeric values such as text or dates. Pandas can also load data from excel files using the library 'xlrd'. Pandas supports reading and writing other complex data types such as sql, json, html and many more.\n",
        "When reading CSV files, Pandas tries to infer the type from the values in each column. We can force Pandas to treat a column as containing dates and even specify that we want to treat dates as 'dayfirst', i.e. DD/MM/YYYY (the way used in several countries, including the UK) rather than MM/DD/YYYY (like in the USA).\n",
        "If we have all numeric values in a CSV format we can also use Numpy directly to read the table but we will not have access to Pandas functionalities."
      ]
    },
    {
      "cell_type": "code",
      "execution_count": 1,
      "metadata": {
        "id": "YS0YfuSUJOOz"
      },
      "outputs": [],
      "source": [
        "import pandas as pd"
      ]
    },
    {
      "cell_type": "code",
      "execution_count": 2,
      "metadata": {
        "id": "rrURS7BDJOO0",
        "outputId": "9609be1a-e303-4f4b-9419-ea4fd2d9b871",
        "colab": {
          "base_uri": "https://localhost:8080/",
          "height": 289
        }
      },
      "outputs": [
        {
          "output_type": "execute_result",
          "data": {
            "text/plain": [
              "         Date  Time    Size Colour        Cost  Label\n",
              "0  2020-10-16  11.0   Small   Blue  109.521068      1\n",
              "1  2020-10-16  13.0   Small    Red  112.141170      1\n",
              "2  2020-10-16  17.0  Medium  Green  112.004677      1\n",
              "3  2020-10-17   9.0   Large  Green   15.112922      0\n",
              "4  2020-10-17  11.0   Large  Green  105.663642      1\n",
              "5  2020-10-17  17.0  Medium  Green    5.158097      0\n",
              "6  2020-10-18   9.0   Small   Blue  107.947930      1\n",
              "7  2020-10-18   NaN   Large    Red    8.320838      0\n",
              "8  2020-10-18  13.0   Large    Red  113.424684      1\n",
              "9  2020-10-18  15.0   Small   Blue  103.223563      1\n",
              "10 2020-10-18  17.0   Large    Red  115.190210      1\n",
              "11 2020-10-19   9.0  Medium   Blue  105.216665      1\n",
              "12 2020-10-19  11.0   Small    Red  103.433604      1\n",
              "13 2020-10-19  13.0   Large   Blue   15.599248      0\n",
              "14 2020-10-19  15.0   Small    Red   12.904205      0\n",
              "15 2020-10-20   9.0   Small    Red   19.042334      0\n",
              "16 2020-10-20   NaN   Large   Blue  113.658567      1\n",
              "17 2020-10-20  17.0  Medium    Red  115.991724      1\n",
              "18 2020-10-23  11.0  Medium   Blue    3.643787      0\n",
              "19 2020-10-24  11.0  Medium    Red  118.108710      1\n",
              "20 2020-10-25  11.0   Large  Green   14.973611      0\n",
              "21 2020-10-25   NaN   Large   Blue   10.699388      0\n",
              "22 2020-10-25  15.0   Large    Red  106.224366      1\n",
              "23 2020-10-26  11.0   Large    Red  114.638621      1\n",
              "24 2020-10-26  13.0   Small   Blue    1.228235      0\n",
              "25 2020-10-27  11.0   Large    Red    5.791450      0\n",
              "26 2020-10-28   9.0   Small    Red    8.606806      0\n",
              "27 2020-10-28  13.0   Large   Blue   12.414377      0\n",
              "28 2020-10-30   NaN   Large    Red  115.663402      1\n",
              "29 2020-10-30  13.0   Small   Blue  115.410273      1\n",
              "30 2020-10-30  11.0   Small    Red  105.401517      1\n",
              "31 2020-10-31  13.0  Medium  Green    0.137767      0\n",
              "32 2020-11-01   9.0   Large  Green  112.661384      1"
            ],
            "text/html": [
              "\n",
              "  <div id=\"df-61f12b6d-dea8-4fc8-8d48-38cc8af6e0ca\">\n",
              "    <div class=\"colab-df-container\">\n",
              "      <div>\n",
              "<style scoped>\n",
              "    .dataframe tbody tr th:only-of-type {\n",
              "        vertical-align: middle;\n",
              "    }\n",
              "\n",
              "    .dataframe tbody tr th {\n",
              "        vertical-align: top;\n",
              "    }\n",
              "\n",
              "    .dataframe thead th {\n",
              "        text-align: right;\n",
              "    }\n",
              "</style>\n",
              "<table border=\"1\" class=\"dataframe\">\n",
              "  <thead>\n",
              "    <tr style=\"text-align: right;\">\n",
              "      <th></th>\n",
              "      <th>Date</th>\n",
              "      <th>Time</th>\n",
              "      <th>Size</th>\n",
              "      <th>Colour</th>\n",
              "      <th>Cost</th>\n",
              "      <th>Label</th>\n",
              "    </tr>\n",
              "  </thead>\n",
              "  <tbody>\n",
              "    <tr>\n",
              "      <th>0</th>\n",
              "      <td>2020-10-16</td>\n",
              "      <td>11.0</td>\n",
              "      <td>Small</td>\n",
              "      <td>Blue</td>\n",
              "      <td>109.521068</td>\n",
              "      <td>1</td>\n",
              "    </tr>\n",
              "    <tr>\n",
              "      <th>1</th>\n",
              "      <td>2020-10-16</td>\n",
              "      <td>13.0</td>\n",
              "      <td>Small</td>\n",
              "      <td>Red</td>\n",
              "      <td>112.141170</td>\n",
              "      <td>1</td>\n",
              "    </tr>\n",
              "    <tr>\n",
              "      <th>2</th>\n",
              "      <td>2020-10-16</td>\n",
              "      <td>17.0</td>\n",
              "      <td>Medium</td>\n",
              "      <td>Green</td>\n",
              "      <td>112.004677</td>\n",
              "      <td>1</td>\n",
              "    </tr>\n",
              "    <tr>\n",
              "      <th>3</th>\n",
              "      <td>2020-10-17</td>\n",
              "      <td>9.0</td>\n",
              "      <td>Large</td>\n",
              "      <td>Green</td>\n",
              "      <td>15.112922</td>\n",
              "      <td>0</td>\n",
              "    </tr>\n",
              "    <tr>\n",
              "      <th>4</th>\n",
              "      <td>2020-10-17</td>\n",
              "      <td>11.0</td>\n",
              "      <td>Large</td>\n",
              "      <td>Green</td>\n",
              "      <td>105.663642</td>\n",
              "      <td>1</td>\n",
              "    </tr>\n",
              "    <tr>\n",
              "      <th>5</th>\n",
              "      <td>2020-10-17</td>\n",
              "      <td>17.0</td>\n",
              "      <td>Medium</td>\n",
              "      <td>Green</td>\n",
              "      <td>5.158097</td>\n",
              "      <td>0</td>\n",
              "    </tr>\n",
              "    <tr>\n",
              "      <th>6</th>\n",
              "      <td>2020-10-18</td>\n",
              "      <td>9.0</td>\n",
              "      <td>Small</td>\n",
              "      <td>Blue</td>\n",
              "      <td>107.947930</td>\n",
              "      <td>1</td>\n",
              "    </tr>\n",
              "    <tr>\n",
              "      <th>7</th>\n",
              "      <td>2020-10-18</td>\n",
              "      <td>NaN</td>\n",
              "      <td>Large</td>\n",
              "      <td>Red</td>\n",
              "      <td>8.320838</td>\n",
              "      <td>0</td>\n",
              "    </tr>\n",
              "    <tr>\n",
              "      <th>8</th>\n",
              "      <td>2020-10-18</td>\n",
              "      <td>13.0</td>\n",
              "      <td>Large</td>\n",
              "      <td>Red</td>\n",
              "      <td>113.424684</td>\n",
              "      <td>1</td>\n",
              "    </tr>\n",
              "    <tr>\n",
              "      <th>9</th>\n",
              "      <td>2020-10-18</td>\n",
              "      <td>15.0</td>\n",
              "      <td>Small</td>\n",
              "      <td>Blue</td>\n",
              "      <td>103.223563</td>\n",
              "      <td>1</td>\n",
              "    </tr>\n",
              "    <tr>\n",
              "      <th>10</th>\n",
              "      <td>2020-10-18</td>\n",
              "      <td>17.0</td>\n",
              "      <td>Large</td>\n",
              "      <td>Red</td>\n",
              "      <td>115.190210</td>\n",
              "      <td>1</td>\n",
              "    </tr>\n",
              "    <tr>\n",
              "      <th>11</th>\n",
              "      <td>2020-10-19</td>\n",
              "      <td>9.0</td>\n",
              "      <td>Medium</td>\n",
              "      <td>Blue</td>\n",
              "      <td>105.216665</td>\n",
              "      <td>1</td>\n",
              "    </tr>\n",
              "    <tr>\n",
              "      <th>12</th>\n",
              "      <td>2020-10-19</td>\n",
              "      <td>11.0</td>\n",
              "      <td>Small</td>\n",
              "      <td>Red</td>\n",
              "      <td>103.433604</td>\n",
              "      <td>1</td>\n",
              "    </tr>\n",
              "    <tr>\n",
              "      <th>13</th>\n",
              "      <td>2020-10-19</td>\n",
              "      <td>13.0</td>\n",
              "      <td>Large</td>\n",
              "      <td>Blue</td>\n",
              "      <td>15.599248</td>\n",
              "      <td>0</td>\n",
              "    </tr>\n",
              "    <tr>\n",
              "      <th>14</th>\n",
              "      <td>2020-10-19</td>\n",
              "      <td>15.0</td>\n",
              "      <td>Small</td>\n",
              "      <td>Red</td>\n",
              "      <td>12.904205</td>\n",
              "      <td>0</td>\n",
              "    </tr>\n",
              "    <tr>\n",
              "      <th>15</th>\n",
              "      <td>2020-10-20</td>\n",
              "      <td>9.0</td>\n",
              "      <td>Small</td>\n",
              "      <td>Red</td>\n",
              "      <td>19.042334</td>\n",
              "      <td>0</td>\n",
              "    </tr>\n",
              "    <tr>\n",
              "      <th>16</th>\n",
              "      <td>2020-10-20</td>\n",
              "      <td>NaN</td>\n",
              "      <td>Large</td>\n",
              "      <td>Blue</td>\n",
              "      <td>113.658567</td>\n",
              "      <td>1</td>\n",
              "    </tr>\n",
              "    <tr>\n",
              "      <th>17</th>\n",
              "      <td>2020-10-20</td>\n",
              "      <td>17.0</td>\n",
              "      <td>Medium</td>\n",
              "      <td>Red</td>\n",
              "      <td>115.991724</td>\n",
              "      <td>1</td>\n",
              "    </tr>\n",
              "    <tr>\n",
              "      <th>18</th>\n",
              "      <td>2020-10-23</td>\n",
              "      <td>11.0</td>\n",
              "      <td>Medium</td>\n",
              "      <td>Blue</td>\n",
              "      <td>3.643787</td>\n",
              "      <td>0</td>\n",
              "    </tr>\n",
              "    <tr>\n",
              "      <th>19</th>\n",
              "      <td>2020-10-24</td>\n",
              "      <td>11.0</td>\n",
              "      <td>Medium</td>\n",
              "      <td>Red</td>\n",
              "      <td>118.108710</td>\n",
              "      <td>1</td>\n",
              "    </tr>\n",
              "    <tr>\n",
              "      <th>20</th>\n",
              "      <td>2020-10-25</td>\n",
              "      <td>11.0</td>\n",
              "      <td>Large</td>\n",
              "      <td>Green</td>\n",
              "      <td>14.973611</td>\n",
              "      <td>0</td>\n",
              "    </tr>\n",
              "    <tr>\n",
              "      <th>21</th>\n",
              "      <td>2020-10-25</td>\n",
              "      <td>NaN</td>\n",
              "      <td>Large</td>\n",
              "      <td>Blue</td>\n",
              "      <td>10.699388</td>\n",
              "      <td>0</td>\n",
              "    </tr>\n",
              "    <tr>\n",
              "      <th>22</th>\n",
              "      <td>2020-10-25</td>\n",
              "      <td>15.0</td>\n",
              "      <td>Large</td>\n",
              "      <td>Red</td>\n",
              "      <td>106.224366</td>\n",
              "      <td>1</td>\n",
              "    </tr>\n",
              "    <tr>\n",
              "      <th>23</th>\n",
              "      <td>2020-10-26</td>\n",
              "      <td>11.0</td>\n",
              "      <td>Large</td>\n",
              "      <td>Red</td>\n",
              "      <td>114.638621</td>\n",
              "      <td>1</td>\n",
              "    </tr>\n",
              "    <tr>\n",
              "      <th>24</th>\n",
              "      <td>2020-10-26</td>\n",
              "      <td>13.0</td>\n",
              "      <td>Small</td>\n",
              "      <td>Blue</td>\n",
              "      <td>1.228235</td>\n",
              "      <td>0</td>\n",
              "    </tr>\n",
              "    <tr>\n",
              "      <th>25</th>\n",
              "      <td>2020-10-27</td>\n",
              "      <td>11.0</td>\n",
              "      <td>Large</td>\n",
              "      <td>Red</td>\n",
              "      <td>5.791450</td>\n",
              "      <td>0</td>\n",
              "    </tr>\n",
              "    <tr>\n",
              "      <th>26</th>\n",
              "      <td>2020-10-28</td>\n",
              "      <td>9.0</td>\n",
              "      <td>Small</td>\n",
              "      <td>Red</td>\n",
              "      <td>8.606806</td>\n",
              "      <td>0</td>\n",
              "    </tr>\n",
              "    <tr>\n",
              "      <th>27</th>\n",
              "      <td>2020-10-28</td>\n",
              "      <td>13.0</td>\n",
              "      <td>Large</td>\n",
              "      <td>Blue</td>\n",
              "      <td>12.414377</td>\n",
              "      <td>0</td>\n",
              "    </tr>\n",
              "    <tr>\n",
              "      <th>28</th>\n",
              "      <td>2020-10-30</td>\n",
              "      <td>NaN</td>\n",
              "      <td>Large</td>\n",
              "      <td>Red</td>\n",
              "      <td>115.663402</td>\n",
              "      <td>1</td>\n",
              "    </tr>\n",
              "    <tr>\n",
              "      <th>29</th>\n",
              "      <td>2020-10-30</td>\n",
              "      <td>13.0</td>\n",
              "      <td>Small</td>\n",
              "      <td>Blue</td>\n",
              "      <td>115.410273</td>\n",
              "      <td>1</td>\n",
              "    </tr>\n",
              "    <tr>\n",
              "      <th>30</th>\n",
              "      <td>2020-10-30</td>\n",
              "      <td>11.0</td>\n",
              "      <td>Small</td>\n",
              "      <td>Red</td>\n",
              "      <td>105.401517</td>\n",
              "      <td>1</td>\n",
              "    </tr>\n",
              "    <tr>\n",
              "      <th>31</th>\n",
              "      <td>2020-10-31</td>\n",
              "      <td>13.0</td>\n",
              "      <td>Medium</td>\n",
              "      <td>Green</td>\n",
              "      <td>0.137767</td>\n",
              "      <td>0</td>\n",
              "    </tr>\n",
              "    <tr>\n",
              "      <th>32</th>\n",
              "      <td>2020-11-01</td>\n",
              "      <td>9.0</td>\n",
              "      <td>Large</td>\n",
              "      <td>Green</td>\n",
              "      <td>112.661384</td>\n",
              "      <td>1</td>\n",
              "    </tr>\n",
              "  </tbody>\n",
              "</table>\n",
              "</div>\n",
              "      <button class=\"colab-df-convert\" onclick=\"convertToInteractive('df-61f12b6d-dea8-4fc8-8d48-38cc8af6e0ca')\"\n",
              "              title=\"Convert this dataframe to an interactive table.\"\n",
              "              style=\"display:none;\">\n",
              "        \n",
              "  <svg xmlns=\"http://www.w3.org/2000/svg\" height=\"24px\"viewBox=\"0 0 24 24\"\n",
              "       width=\"24px\">\n",
              "    <path d=\"M0 0h24v24H0V0z\" fill=\"none\"/>\n",
              "    <path d=\"M18.56 5.44l.94 2.06.94-2.06 2.06-.94-2.06-.94-.94-2.06-.94 2.06-2.06.94zm-11 1L8.5 8.5l.94-2.06 2.06-.94-2.06-.94L8.5 2.5l-.94 2.06-2.06.94zm10 10l.94 2.06.94-2.06 2.06-.94-2.06-.94-.94-2.06-.94 2.06-2.06.94z\"/><path d=\"M17.41 7.96l-1.37-1.37c-.4-.4-.92-.59-1.43-.59-.52 0-1.04.2-1.43.59L10.3 9.45l-7.72 7.72c-.78.78-.78 2.05 0 2.83L4 21.41c.39.39.9.59 1.41.59.51 0 1.02-.2 1.41-.59l7.78-7.78 2.81-2.81c.8-.78.8-2.07 0-2.86zM5.41 20L4 18.59l7.72-7.72 1.47 1.35L5.41 20z\"/>\n",
              "  </svg>\n",
              "      </button>\n",
              "      \n",
              "  <style>\n",
              "    .colab-df-container {\n",
              "      display:flex;\n",
              "      flex-wrap:wrap;\n",
              "      gap: 12px;\n",
              "    }\n",
              "\n",
              "    .colab-df-convert {\n",
              "      background-color: #E8F0FE;\n",
              "      border: none;\n",
              "      border-radius: 50%;\n",
              "      cursor: pointer;\n",
              "      display: none;\n",
              "      fill: #1967D2;\n",
              "      height: 32px;\n",
              "      padding: 0 0 0 0;\n",
              "      width: 32px;\n",
              "    }\n",
              "\n",
              "    .colab-df-convert:hover {\n",
              "      background-color: #E2EBFA;\n",
              "      box-shadow: 0px 1px 2px rgba(60, 64, 67, 0.3), 0px 1px 3px 1px rgba(60, 64, 67, 0.15);\n",
              "      fill: #174EA6;\n",
              "    }\n",
              "\n",
              "    [theme=dark] .colab-df-convert {\n",
              "      background-color: #3B4455;\n",
              "      fill: #D2E3FC;\n",
              "    }\n",
              "\n",
              "    [theme=dark] .colab-df-convert:hover {\n",
              "      background-color: #434B5C;\n",
              "      box-shadow: 0px 1px 3px 1px rgba(0, 0, 0, 0.15);\n",
              "      filter: drop-shadow(0px 1px 2px rgba(0, 0, 0, 0.3));\n",
              "      fill: #FFFFFF;\n",
              "    }\n",
              "  </style>\n",
              "\n",
              "      <script>\n",
              "        const buttonEl =\n",
              "          document.querySelector('#df-61f12b6d-dea8-4fc8-8d48-38cc8af6e0ca button.colab-df-convert');\n",
              "        buttonEl.style.display =\n",
              "          google.colab.kernel.accessAllowed ? 'block' : 'none';\n",
              "\n",
              "        async function convertToInteractive(key) {\n",
              "          const element = document.querySelector('#df-61f12b6d-dea8-4fc8-8d48-38cc8af6e0ca');\n",
              "          const dataTable =\n",
              "            await google.colab.kernel.invokeFunction('convertToInteractive',\n",
              "                                                     [key], {});\n",
              "          if (!dataTable) return;\n",
              "\n",
              "          const docLinkHtml = 'Like what you see? Visit the ' +\n",
              "            '<a target=\"_blank\" href=https://colab.research.google.com/notebooks/data_table.ipynb>data table notebook</a>'\n",
              "            + ' to learn more about interactive tables.';\n",
              "          element.innerHTML = '';\n",
              "          dataTable['output_type'] = 'display_data';\n",
              "          await google.colab.output.renderOutput(dataTable, element);\n",
              "          const docLink = document.createElement('div');\n",
              "          docLink.innerHTML = docLinkHtml;\n",
              "          element.appendChild(docLink);\n",
              "        }\n",
              "      </script>\n",
              "    </div>\n",
              "  </div>\n",
              "  "
            ]
          },
          "metadata": {},
          "execution_count": 2
        }
      ],
      "source": [
        "data = pd.read_csv('example1.csv', parse_dates=['Date'], dayfirst=True)\n",
        "data"
      ]
    },
    {
      "cell_type": "markdown",
      "metadata": {
        "id": "puMUTh4zJOO1"
      },
      "source": [
        "Just like `ndarray` is the fundamental brick of the numpy library, the dataframe is the fundamental brick of the pandas library.\n",
        "A dataframe is a a table where each column is a variable (or series as they are called in Pandas) and each row is a sample. We can access each series using the name of the variable, either using the index notation (`df['v']`) or as field of the object (`df.v`). The latter notation can only be used when the field name is a valid field name (e.g., column '3a' can only be accessed as `df['3a']`).\n",
        "\n",
        "The method `head` shows only the first 5 entries of the table."
      ]
    },
    {
      "cell_type": "code",
      "execution_count": 3,
      "metadata": {
        "id": "_OWVAsuOJOO1",
        "outputId": "d5697382-0817-4a6b-f9f4-c5f09ec6349f",
        "colab": {
          "base_uri": "https://localhost:8080/"
        }
      },
      "outputs": [
        {
          "output_type": "stream",
          "name": "stdout",
          "text": [
            "0   2020-10-16\n",
            "1   2020-10-16\n",
            "2   2020-10-16\n",
            "3   2020-10-17\n",
            "4   2020-10-17\n",
            "Name: Date, dtype: datetime64[ns]\n",
            "0   2020-10-16\n",
            "1   2020-10-16\n",
            "2   2020-10-16\n",
            "3   2020-10-17\n",
            "4   2020-10-17\n",
            "Name: Date, dtype: datetime64[ns]\n"
          ]
        }
      ],
      "source": [
        "print(data['Date'].head())\n",
        "print(data.Date.head())"
      ]
    },
    {
      "cell_type": "markdown",
      "metadata": {
        "id": "qViE0UnVJOO2"
      },
      "source": [
        "To select rows, we ca use either a conditional format or a more traditional indexing.\n",
        "For example let's select the rows for which the color is blue."
      ]
    },
    {
      "cell_type": "code",
      "execution_count": null,
      "metadata": {
        "id": "RTOwfcQCJOO3"
      },
      "outputs": [],
      "source": [
        "data[data[\"Colour\"] == 'Blue']"
      ]
    },
    {
      "cell_type": "markdown",
      "metadata": {
        "id": "tNAYua3kJOO4"
      },
      "source": [
        "Now let's select the first five rows."
      ]
    },
    {
      "cell_type": "code",
      "execution_count": null,
      "metadata": {
        "id": "HEl9L-MHJOO4"
      },
      "outputs": [],
      "source": [
        "data.iloc[:5,:]"
      ]
    },
    {
      "cell_type": "markdown",
      "metadata": {
        "id": "Ow2GkpoPJOO4"
      },
      "source": [
        "Pandas is a really powerful tool but in the interest iof time we are not going to explain it further. However you can visit these [tutorials](https://pandas.pydata.org/docs/getting_started/index.html) to learn more about it."
      ]
    },
    {
      "cell_type": "markdown",
      "metadata": {
        "id": "2FllX-9GJOO5"
      },
      "source": [
        "## Prepare the data"
      ]
    },
    {
      "cell_type": "markdown",
      "metadata": {
        "id": "6d_YaqN5JOO5"
      },
      "source": [
        "Now that we have the data in the dataframe we will process it to **transform all its values into numerical ones.** \n",
        "There are mainly two types of data that may be necessary to transform: dates and categorical values.\n",
        "\n",
        "-> neccessary because machine learning takes numbers as input and gives them as output. This mean we will categorical variables numeric lables. E.g., Red blue and green = 3 values, will give them ' hot coding' (?) values -> where you represent them with 0s and 1s (I think this is the concept behind dummy and effect coding with ANOVAs)\n",
        "where we put 1 0 0 = red; 0 1 0 = green and 0 0 1 as blue.    \n",
        "\n",
        "In psychology we try to collect our data with automatic coding so we can skip most of these prep data points. \n",
        "\n",
        "We can see what type of data we have in our dataframe:"
      ]
    },
    {
      "cell_type": "code",
      "execution_count": 4,
      "metadata": {
        "id": "_JdEdSp8JOO5",
        "outputId": "cba1d345-a4bd-45a4-da72-154817e92633",
        "colab": {
          "base_uri": "https://localhost:8080/"
        }
      },
      "outputs": [
        {
          "output_type": "execute_result",
          "data": {
            "text/plain": [
              "Date      datetime64[ns]\n",
              "Time             float64\n",
              "Size              object\n",
              "Colour            object\n",
              "Cost             float64\n",
              "Label              int64\n",
              "dtype: object"
            ]
          },
          "metadata": {},
          "execution_count": 4
        }
      ],
      "source": [
        "data.dtypes"
      ]
    },
    {
      "cell_type": "markdown",
      "metadata": {
        "id": "PEBG-5sbJOO5"
      },
      "source": [
        "(Note that the methods we see in this section replace non-numerical values with floating point numbers _in place_, so if you run them again you will get an error since the column does not contain the expected type anymore.)"
      ]
    },
    {
      "cell_type": "markdown",
      "metadata": {
        "id": "O-fIrYvZJOO6"
      },
      "source": [
        "### Dates"
      ]
    },
    {
      "cell_type": "markdown",
      "metadata": {
        "id": "0zbZ5T5OJOO6"
      },
      "source": [
        "A standard way to transform dates is to change them into the time passed since a specific reference time point. This is as simple as:"
      ]
    },
    {
      "cell_type": "code",
      "execution_count": 5,
      "metadata": {
        "id": "1TVwHlLBJOO7",
        "outputId": "2dc80031-e024-40a7-8852-5eafbbd1110f",
        "colab": {
          "base_uri": "https://localhost:8080/",
          "height": 215
        }
      },
      "outputs": [
        {
          "output_type": "execute_result",
          "data": {
            "text/plain": [
              "           Date  Time    Size Colour        Cost  Label\n",
              "0  6.566400e+15  11.0   Small   Blue  109.521068      1\n",
              "1  6.566400e+15  13.0   Small    Red  112.141170      1\n",
              "2  6.566400e+15  17.0  Medium  Green  112.004677      1\n",
              "3  6.652800e+15   9.0   Large  Green   15.112922      0\n",
              "4  6.652800e+15  11.0   Large  Green  105.663642      1"
            ],
            "text/html": [
              "\n",
              "  <div id=\"df-bba39cb7-26c7-4889-b156-1d642b98d75e\">\n",
              "    <div class=\"colab-df-container\">\n",
              "      <div>\n",
              "<style scoped>\n",
              "    .dataframe tbody tr th:only-of-type {\n",
              "        vertical-align: middle;\n",
              "    }\n",
              "\n",
              "    .dataframe tbody tr th {\n",
              "        vertical-align: top;\n",
              "    }\n",
              "\n",
              "    .dataframe thead th {\n",
              "        text-align: right;\n",
              "    }\n",
              "</style>\n",
              "<table border=\"1\" class=\"dataframe\">\n",
              "  <thead>\n",
              "    <tr style=\"text-align: right;\">\n",
              "      <th></th>\n",
              "      <th>Date</th>\n",
              "      <th>Time</th>\n",
              "      <th>Size</th>\n",
              "      <th>Colour</th>\n",
              "      <th>Cost</th>\n",
              "      <th>Label</th>\n",
              "    </tr>\n",
              "  </thead>\n",
              "  <tbody>\n",
              "    <tr>\n",
              "      <th>0</th>\n",
              "      <td>6.566400e+15</td>\n",
              "      <td>11.0</td>\n",
              "      <td>Small</td>\n",
              "      <td>Blue</td>\n",
              "      <td>109.521068</td>\n",
              "      <td>1</td>\n",
              "    </tr>\n",
              "    <tr>\n",
              "      <th>1</th>\n",
              "      <td>6.566400e+15</td>\n",
              "      <td>13.0</td>\n",
              "      <td>Small</td>\n",
              "      <td>Red</td>\n",
              "      <td>112.141170</td>\n",
              "      <td>1</td>\n",
              "    </tr>\n",
              "    <tr>\n",
              "      <th>2</th>\n",
              "      <td>6.566400e+15</td>\n",
              "      <td>17.0</td>\n",
              "      <td>Medium</td>\n",
              "      <td>Green</td>\n",
              "      <td>112.004677</td>\n",
              "      <td>1</td>\n",
              "    </tr>\n",
              "    <tr>\n",
              "      <th>3</th>\n",
              "      <td>6.652800e+15</td>\n",
              "      <td>9.0</td>\n",
              "      <td>Large</td>\n",
              "      <td>Green</td>\n",
              "      <td>15.112922</td>\n",
              "      <td>0</td>\n",
              "    </tr>\n",
              "    <tr>\n",
              "      <th>4</th>\n",
              "      <td>6.652800e+15</td>\n",
              "      <td>11.0</td>\n",
              "      <td>Large</td>\n",
              "      <td>Green</td>\n",
              "      <td>105.663642</td>\n",
              "      <td>1</td>\n",
              "    </tr>\n",
              "  </tbody>\n",
              "</table>\n",
              "</div>\n",
              "      <button class=\"colab-df-convert\" onclick=\"convertToInteractive('df-bba39cb7-26c7-4889-b156-1d642b98d75e')\"\n",
              "              title=\"Convert this dataframe to an interactive table.\"\n",
              "              style=\"display:none;\">\n",
              "        \n",
              "  <svg xmlns=\"http://www.w3.org/2000/svg\" height=\"24px\"viewBox=\"0 0 24 24\"\n",
              "       width=\"24px\">\n",
              "    <path d=\"M0 0h24v24H0V0z\" fill=\"none\"/>\n",
              "    <path d=\"M18.56 5.44l.94 2.06.94-2.06 2.06-.94-2.06-.94-.94-2.06-.94 2.06-2.06.94zm-11 1L8.5 8.5l.94-2.06 2.06-.94-2.06-.94L8.5 2.5l-.94 2.06-2.06.94zm10 10l.94 2.06.94-2.06 2.06-.94-2.06-.94-.94-2.06-.94 2.06-2.06.94z\"/><path d=\"M17.41 7.96l-1.37-1.37c-.4-.4-.92-.59-1.43-.59-.52 0-1.04.2-1.43.59L10.3 9.45l-7.72 7.72c-.78.78-.78 2.05 0 2.83L4 21.41c.39.39.9.59 1.41.59.51 0 1.02-.2 1.41-.59l7.78-7.78 2.81-2.81c.8-.78.8-2.07 0-2.86zM5.41 20L4 18.59l7.72-7.72 1.47 1.35L5.41 20z\"/>\n",
              "  </svg>\n",
              "      </button>\n",
              "      \n",
              "  <style>\n",
              "    .colab-df-container {\n",
              "      display:flex;\n",
              "      flex-wrap:wrap;\n",
              "      gap: 12px;\n",
              "    }\n",
              "\n",
              "    .colab-df-convert {\n",
              "      background-color: #E8F0FE;\n",
              "      border: none;\n",
              "      border-radius: 50%;\n",
              "      cursor: pointer;\n",
              "      display: none;\n",
              "      fill: #1967D2;\n",
              "      height: 32px;\n",
              "      padding: 0 0 0 0;\n",
              "      width: 32px;\n",
              "    }\n",
              "\n",
              "    .colab-df-convert:hover {\n",
              "      background-color: #E2EBFA;\n",
              "      box-shadow: 0px 1px 2px rgba(60, 64, 67, 0.3), 0px 1px 3px 1px rgba(60, 64, 67, 0.15);\n",
              "      fill: #174EA6;\n",
              "    }\n",
              "\n",
              "    [theme=dark] .colab-df-convert {\n",
              "      background-color: #3B4455;\n",
              "      fill: #D2E3FC;\n",
              "    }\n",
              "\n",
              "    [theme=dark] .colab-df-convert:hover {\n",
              "      background-color: #434B5C;\n",
              "      box-shadow: 0px 1px 3px 1px rgba(0, 0, 0, 0.15);\n",
              "      filter: drop-shadow(0px 1px 2px rgba(0, 0, 0, 0.3));\n",
              "      fill: #FFFFFF;\n",
              "    }\n",
              "  </style>\n",
              "\n",
              "      <script>\n",
              "        const buttonEl =\n",
              "          document.querySelector('#df-bba39cb7-26c7-4889-b156-1d642b98d75e button.colab-df-convert');\n",
              "        buttonEl.style.display =\n",
              "          google.colab.kernel.accessAllowed ? 'block' : 'none';\n",
              "\n",
              "        async function convertToInteractive(key) {\n",
              "          const element = document.querySelector('#df-bba39cb7-26c7-4889-b156-1d642b98d75e');\n",
              "          const dataTable =\n",
              "            await google.colab.kernel.invokeFunction('convertToInteractive',\n",
              "                                                     [key], {});\n",
              "          if (!dataTable) return;\n",
              "\n",
              "          const docLinkHtml = 'Like what you see? Visit the ' +\n",
              "            '<a target=\"_blank\" href=https://colab.research.google.com/notebooks/data_table.ipynb>data table notebook</a>'\n",
              "            + ' to learn more about interactive tables.';\n",
              "          element.innerHTML = '';\n",
              "          dataTable['output_type'] = 'display_data';\n",
              "          await google.colab.output.renderOutput(dataTable, element);\n",
              "          const docLink = document.createElement('div');\n",
              "          docLink.innerHTML = docLinkHtml;\n",
              "          element.appendChild(docLink);\n",
              "        }\n",
              "      </script>\n",
              "    </div>\n",
              "  </div>\n",
              "  "
            ]
          },
          "metadata": {},
          "execution_count": 5
        }
      ],
      "source": [
        "time0 = pd.Timestamp('2020-08-01 00:00:00')\n",
        "data['Date'] = (data['Date'] - time0).values.astype(float)\n",
        "data.head()"
      ]
    },
    {
      "cell_type": "markdown",
      "metadata": {
        "id": "YUYnXUKFJOO7"
      },
      "source": [
        "### Categorical values"
      ]
    },
    {
      "cell_type": "markdown",
      "metadata": {
        "id": "o3KZW-18JOO7"
      },
      "source": [
        "**Categorical values** are non numerical values that may have or not an ordinal relationship. **If** they have an **ordinal relationship** (for example: low, mid, high or small, big), a simple approach is to **transform directly to numerical value respecting the order** (although this will impose an arbitrary distance between the values)."
      ]
    },
    {
      "cell_type": "markdown",
      "metadata": {
        "id": "2wGFzvEtJOO7"
      },
      "source": [
        "Pandas allows use to do this using a dictionary and the method `replace`."
      ]
    },
    {
      "cell_type": "code",
      "execution_count": 6,
      "metadata": {
        "id": "ggZ8SSSPJOO8",
        "outputId": "5748776e-8a57-46ef-8211-e2a04fa3f0a4",
        "colab": {
          "base_uri": "https://localhost:8080/",
          "height": 206
        }
      },
      "outputs": [
        {
          "output_type": "execute_result",
          "data": {
            "text/plain": [
              "           Date  Time  Size Colour        Cost  Label\n",
              "0  6.566400e+15  11.0     0   Blue  109.521068      1\n",
              "1  6.566400e+15  13.0     0    Red  112.141170      1\n",
              "2  6.566400e+15  17.0     1  Green  112.004677      1\n",
              "3  6.652800e+15   9.0     2  Green   15.112922      0\n",
              "4  6.652800e+15  11.0     2  Green  105.663642      1"
            ],
            "text/html": [
              "\n",
              "  <div id=\"df-40f295bb-9d1e-49d7-babc-0de2c7276673\">\n",
              "    <div class=\"colab-df-container\">\n",
              "      <div>\n",
              "<style scoped>\n",
              "    .dataframe tbody tr th:only-of-type {\n",
              "        vertical-align: middle;\n",
              "    }\n",
              "\n",
              "    .dataframe tbody tr th {\n",
              "        vertical-align: top;\n",
              "    }\n",
              "\n",
              "    .dataframe thead th {\n",
              "        text-align: right;\n",
              "    }\n",
              "</style>\n",
              "<table border=\"1\" class=\"dataframe\">\n",
              "  <thead>\n",
              "    <tr style=\"text-align: right;\">\n",
              "      <th></th>\n",
              "      <th>Date</th>\n",
              "      <th>Time</th>\n",
              "      <th>Size</th>\n",
              "      <th>Colour</th>\n",
              "      <th>Cost</th>\n",
              "      <th>Label</th>\n",
              "    </tr>\n",
              "  </thead>\n",
              "  <tbody>\n",
              "    <tr>\n",
              "      <th>0</th>\n",
              "      <td>6.566400e+15</td>\n",
              "      <td>11.0</td>\n",
              "      <td>0</td>\n",
              "      <td>Blue</td>\n",
              "      <td>109.521068</td>\n",
              "      <td>1</td>\n",
              "    </tr>\n",
              "    <tr>\n",
              "      <th>1</th>\n",
              "      <td>6.566400e+15</td>\n",
              "      <td>13.0</td>\n",
              "      <td>0</td>\n",
              "      <td>Red</td>\n",
              "      <td>112.141170</td>\n",
              "      <td>1</td>\n",
              "    </tr>\n",
              "    <tr>\n",
              "      <th>2</th>\n",
              "      <td>6.566400e+15</td>\n",
              "      <td>17.0</td>\n",
              "      <td>1</td>\n",
              "      <td>Green</td>\n",
              "      <td>112.004677</td>\n",
              "      <td>1</td>\n",
              "    </tr>\n",
              "    <tr>\n",
              "      <th>3</th>\n",
              "      <td>6.652800e+15</td>\n",
              "      <td>9.0</td>\n",
              "      <td>2</td>\n",
              "      <td>Green</td>\n",
              "      <td>15.112922</td>\n",
              "      <td>0</td>\n",
              "    </tr>\n",
              "    <tr>\n",
              "      <th>4</th>\n",
              "      <td>6.652800e+15</td>\n",
              "      <td>11.0</td>\n",
              "      <td>2</td>\n",
              "      <td>Green</td>\n",
              "      <td>105.663642</td>\n",
              "      <td>1</td>\n",
              "    </tr>\n",
              "  </tbody>\n",
              "</table>\n",
              "</div>\n",
              "      <button class=\"colab-df-convert\" onclick=\"convertToInteractive('df-40f295bb-9d1e-49d7-babc-0de2c7276673')\"\n",
              "              title=\"Convert this dataframe to an interactive table.\"\n",
              "              style=\"display:none;\">\n",
              "        \n",
              "  <svg xmlns=\"http://www.w3.org/2000/svg\" height=\"24px\"viewBox=\"0 0 24 24\"\n",
              "       width=\"24px\">\n",
              "    <path d=\"M0 0h24v24H0V0z\" fill=\"none\"/>\n",
              "    <path d=\"M18.56 5.44l.94 2.06.94-2.06 2.06-.94-2.06-.94-.94-2.06-.94 2.06-2.06.94zm-11 1L8.5 8.5l.94-2.06 2.06-.94-2.06-.94L8.5 2.5l-.94 2.06-2.06.94zm10 10l.94 2.06.94-2.06 2.06-.94-2.06-.94-.94-2.06-.94 2.06-2.06.94z\"/><path d=\"M17.41 7.96l-1.37-1.37c-.4-.4-.92-.59-1.43-.59-.52 0-1.04.2-1.43.59L10.3 9.45l-7.72 7.72c-.78.78-.78 2.05 0 2.83L4 21.41c.39.39.9.59 1.41.59.51 0 1.02-.2 1.41-.59l7.78-7.78 2.81-2.81c.8-.78.8-2.07 0-2.86zM5.41 20L4 18.59l7.72-7.72 1.47 1.35L5.41 20z\"/>\n",
              "  </svg>\n",
              "      </button>\n",
              "      \n",
              "  <style>\n",
              "    .colab-df-container {\n",
              "      display:flex;\n",
              "      flex-wrap:wrap;\n",
              "      gap: 12px;\n",
              "    }\n",
              "\n",
              "    .colab-df-convert {\n",
              "      background-color: #E8F0FE;\n",
              "      border: none;\n",
              "      border-radius: 50%;\n",
              "      cursor: pointer;\n",
              "      display: none;\n",
              "      fill: #1967D2;\n",
              "      height: 32px;\n",
              "      padding: 0 0 0 0;\n",
              "      width: 32px;\n",
              "    }\n",
              "\n",
              "    .colab-df-convert:hover {\n",
              "      background-color: #E2EBFA;\n",
              "      box-shadow: 0px 1px 2px rgba(60, 64, 67, 0.3), 0px 1px 3px 1px rgba(60, 64, 67, 0.15);\n",
              "      fill: #174EA6;\n",
              "    }\n",
              "\n",
              "    [theme=dark] .colab-df-convert {\n",
              "      background-color: #3B4455;\n",
              "      fill: #D2E3FC;\n",
              "    }\n",
              "\n",
              "    [theme=dark] .colab-df-convert:hover {\n",
              "      background-color: #434B5C;\n",
              "      box-shadow: 0px 1px 3px 1px rgba(0, 0, 0, 0.15);\n",
              "      filter: drop-shadow(0px 1px 2px rgba(0, 0, 0, 0.3));\n",
              "      fill: #FFFFFF;\n",
              "    }\n",
              "  </style>\n",
              "\n",
              "      <script>\n",
              "        const buttonEl =\n",
              "          document.querySelector('#df-40f295bb-9d1e-49d7-babc-0de2c7276673 button.colab-df-convert');\n",
              "        buttonEl.style.display =\n",
              "          google.colab.kernel.accessAllowed ? 'block' : 'none';\n",
              "\n",
              "        async function convertToInteractive(key) {\n",
              "          const element = document.querySelector('#df-40f295bb-9d1e-49d7-babc-0de2c7276673');\n",
              "          const dataTable =\n",
              "            await google.colab.kernel.invokeFunction('convertToInteractive',\n",
              "                                                     [key], {});\n",
              "          if (!dataTable) return;\n",
              "\n",
              "          const docLinkHtml = 'Like what you see? Visit the ' +\n",
              "            '<a target=\"_blank\" href=https://colab.research.google.com/notebooks/data_table.ipynb>data table notebook</a>'\n",
              "            + ' to learn more about interactive tables.';\n",
              "          element.innerHTML = '';\n",
              "          dataTable['output_type'] = 'display_data';\n",
              "          await google.colab.output.renderOutput(dataTable, element);\n",
              "          const docLink = document.createElement('div');\n",
              "          docLink.innerHTML = docLinkHtml;\n",
              "          element.appendChild(docLink);\n",
              "        }\n",
              "      </script>\n",
              "    </div>\n",
              "  </div>\n",
              "  "
            ]
          },
          "metadata": {},
          "execution_count": 6
        }
      ],
      "source": [
        "cleanup = {\"Size\": {\"Small\":0, \"Medium\":1, \"Large\":2}}\n",
        "data.replace(cleanup, inplace=True)\n",
        "data.head()"
      ]
    },
    {
      "cell_type": "markdown",
      "metadata": {
        "id": "OH3o_WwTJOO8"
      },
      "source": [
        "This method should not be used with categorical values with no ordinal relationship, for example the colour. Is red bigger than blue?\n",
        "\n",
        "\n",
        "If we treat them as having ordinal relationship some algorithms may be unaffected by this. However, most algorithms will suffer (in terms of accuracy) when using this practice.\n",
        "The 'proper' way to deal with such values is to create a number of variables equal to the the number of different values that the categorical value may take, and then set all to 0 except for one that will set to 1. This is called 'one-hot' encoding. In our case it would be somthing like:\n",
        "\n",
        "Red -> \\[0, 0, 1\\]\n",
        "\n",
        "Blue -> \\[1, 0, 0\\]\n",
        "\n",
        "Green -> \\[0, 1, 0\\]\n",
        "\n",
        "Fortunately, pandas makes this easy with the method `get_dummies`."
      ]
    },
    {
      "cell_type": "code",
      "execution_count": null,
      "metadata": {
        "id": "NyHWSjajJOO8"
      },
      "outputs": [],
      "source": [
        "data = pd.get_dummies(data, columns= ['Colour'])\n",
        "data.head()"
      ]
    },
    {
      "cell_type": "markdown",
      "metadata": {
        "id": "9q1eLvo4JOO8"
      },
      "source": [
        "We can now confirm that all columns have been converted to numeric types."
      ]
    },
    {
      "cell_type": "code",
      "execution_count": null,
      "metadata": {
        "id": "gEwwoXRBJOO8"
      },
      "outputs": [],
      "source": [
        "data.dtypes"
      ]
    },
    {
      "cell_type": "markdown",
      "metadata": {
        "id": "x5Gt7bPWJOO9"
      },
      "source": [
        "Finally we want to transfer our data to two numpy arrays, one containing the variables (features) and another the labels (ground truth)."
      ]
    },
    {
      "cell_type": "code",
      "execution_count": null,
      "metadata": {
        "id": "wZbH9r7TJOO9"
      },
      "outputs": [],
      "source": [
        "import numpy as np\n",
        "x = data.loc[:, data.columns != 'Label'].to_numpy()\n",
        "y = data.loc[:, 'Label'].to_numpy()\n",
        "print(x.shape, y.shape)"
      ]
    },
    {
      "cell_type": "markdown",
      "metadata": {
        "id": "_sL2MMexJOO9"
      },
      "source": [
        "## Data Visualization"
      ]
    },
    {
      "cell_type": "markdown",
      "metadata": {
        "id": "XMQeGyoNJOO9"
      },
      "source": [
        "It is good practice to visualize the data to see if there is something obviously wrong. The matplotlib library includes a number of useful visualisation tools to help us. Getting familiar with this library (or a similar one) and its functions is a first step become a data scientist. Among the many functions make sure you become familiar with scatter, plot, and bar!"
      ]
    },
    {
      "cell_type": "markdown",
      "metadata": {
        "id": "w62LCIOkJOO-"
      },
      "source": [
        "### False predictors"
      ]
    },
    {
      "cell_type": "markdown",
      "metadata": {
        "id": "RmBDQFfvJOO-"
      },
      "source": [
        "In some ocassions we may have a variable that is a false predictor, meaning that it's been introduced in the data by mistake and contains information about the label. Let's imagine that we have a dataset of clients of a bank, and we want to predict if a client will buy an add-on insurance. One of the variables could be how much the client pays to the bank for its services. If this price includes the cost of the insurance, this will result in a variable that may have a strong prediction power but won't work during the deployment because we will detect only the clients that already have an insurance."
      ]
    },
    {
      "cell_type": "markdown",
      "metadata": {
        "id": "08NOHo4UJOO-"
      },
      "source": [
        "In our data there is one false predictor, could you point which one looking at the plots?"
      ]
    },
    {
      "cell_type": "code",
      "execution_count": null,
      "metadata": {
        "id": "5jVJ9UZMJOO_"
      },
      "outputs": [],
      "source": [
        "import matplotlib.pyplot as plt\n",
        "\n",
        "plt.figure(figsize=(8,6))\n",
        "for i in range(x.shape[1]):\n",
        "    plt.subplot(3, 3, i+1)\n",
        "    plt.scatter(y,x[:,i])\n",
        "    plt.xticks([0, 1])\n",
        "    plt.title(data.columns[i])"
      ]
    },
    {
      "cell_type": "markdown",
      "metadata": {
        "id": "BWPA_Ce-JOO_"
      },
      "source": [
        "## Cross-validation\n",
        "Learning the parameters of a prediction function and testing it on the same data is a methodological mistake: a model may memorise the training data perfectly and have a perfect score but would fail to predict anything useful on yet-unseen data. This situation is called overfitting. To avoid it, when performing a (supervised) machine learning task, it is common practice to hold out part of the available data as a test set, which we will store in the variables `X_test` and `y_test`. "
      ]
    },
    {
      "cell_type": "markdown",
      "metadata": {
        "id": "kMx2BtP0JOO_"
      },
      "source": [
        "Conceptually, we need to simulate the future situation, where we have trained our system with some data and, then, we apply it to some unseen data. However, to get better estimates of the accuracy of our model on new data, it is good practice to repeat the procedure after rotating which part of the data are used for train and which for testing. One such methos is called *cross-validation* and helps reduce the variability in estimating the accuracy on new data."
      ]
    },
    {
      "cell_type": "markdown",
      "metadata": {
        "id": "gMvReFopJOO_"
      },
      "source": [
        "Scikit-learn is a library for machine learning (more on this in the next lab). It has a collection of classes which can be used to generate lists of train/test indices for popular cross-validation strategies.\n",
        "\n",
        "They expose a `split` method which accepts the input dataset to be split and yields the train/test set indices for each iteration of the chosen cross-validation strategy."
      ]
    },
    {
      "cell_type": "code",
      "execution_count": null,
      "metadata": {
        "id": "_WNKf1FpJOO_"
      },
      "outputs": [],
      "source": [
        "from sklearn.model_selection import KFold, cross_val_score\n",
        "\n",
        "k_fold = KFold(n_splits=5)\n",
        "for train_indices, test_indices in k_fold.split(x):\n",
        "    print('Train: %s | test: %s' % (train_indices, test_indices))"
      ]
    },
    {
      "cell_type": "markdown",
      "metadata": {
        "id": "LB8lYcHBJOO_"
      },
      "source": [
        "Graphically, we can represent the cross validation loop as follows (where 'O' reprersents a training sample and '•' a test one):"
      ]
    },
    {
      "cell_type": "code",
      "execution_count": null,
      "metadata": {
        "id": "MFA4KQn8JOPA"
      },
      "outputs": [],
      "source": [
        "for train_indices, test_indices in k_fold.split(x):\n",
        "    for i in range(len(x)):\n",
        "        print('O' if i in train_indices else '•', end='')\n",
        "    print('')"
      ]
    },
    {
      "cell_type": "markdown",
      "metadata": {
        "id": "E_wb3VirJOPA"
      },
      "source": [
        "Cross-validation is the cornerstone of supervised machine learning design. All the data-dependent manipulations (not only classification, but also pre-processing) must happen inside Cross-Validation loops when analysing the performance of a system."
      ]
    },
    {
      "cell_type": "markdown",
      "metadata": {
        "id": "TbroaRyPJOPA"
      },
      "source": [
        "Multiple cross-validation loops can be nested when performing hyper-paramether fitting. We will explore this in the next lab. See this [link](https://stats.stackexchange.com/q/292179) for a graphical representation of nested cross-validation."
      ]
    },
    {
      "cell_type": "markdown",
      "metadata": {
        "id": "x7i0DiOEJOPA"
      },
      "source": [
        "The `Kfold` class in sklearn, has another paramether, shuffle. Read the documentation about it and explore what changes when its value is True."
      ]
    },
    {
      "cell_type": "markdown",
      "metadata": {
        "id": "TMXTaiqDJOPA"
      },
      "source": [
        "## Pre-processing"
      ]
    },
    {
      "cell_type": "markdown",
      "metadata": {
        "id": "6rweMlzPJOPB"
      },
      "source": [
        "### Missing data"
      ]
    },
    {
      "cell_type": "markdown",
      "metadata": {
        "id": "yf_hFAAJJOPB"
      },
      "source": [
        "It is common to have missing values in some of the variables. We can see this counting the number of NaN (Not a Number) in our dataset:"
      ]
    },
    {
      "cell_type": "code",
      "execution_count": null,
      "metadata": {
        "id": "SJBwLk3rJOPB"
      },
      "outputs": [],
      "source": [
        "np.sum(np.isnan(x), 0)"
      ]
    },
    {
      "cell_type": "markdown",
      "metadata": {
        "id": "Ilkau5iAJOPB"
      },
      "source": [
        "Here we can see that the second variable in our dataset has some values that are missing."
      ]
    },
    {
      "cell_type": "markdown",
      "metadata": {
        "id": "DKDJHPF_JOPB"
      },
      "source": [
        "#### Default value"
      ]
    },
    {
      "cell_type": "markdown",
      "metadata": {
        "id": "nrmy360zJOPB"
      },
      "source": [
        "The fastest and easiest way to deal with missing data, is to assing a default value (ex. 0). This is possible if we know something about the variable and which may be a good default value, but sometimes we don't."
      ]
    },
    {
      "cell_type": "markdown",
      "metadata": {
        "id": "VlAjsOdPJOPB"
      },
      "source": [
        "#### Data-driven value"
      ]
    },
    {
      "cell_type": "markdown",
      "metadata": {
        "id": "L8e2RXlBJOPB"
      },
      "source": [
        "A better option, is to use a value that is derived from the data, such as the mean, median or other statistical value. However, as mentioned before, this should happen inside the cross-validation (i.e. any value used for imputation must be computed using only the training data)."
      ]
    },
    {
      "cell_type": "markdown",
      "metadata": {
        "id": "almhfR7iJOPB"
      },
      "source": [
        "Here we calculate the mean of the second variable in our dataset for different folds. We use the function `nanmean` from numpy to calculate the mean of an array containing NaN values."
      ]
    },
    {
      "cell_type": "code",
      "execution_count": null,
      "metadata": {
        "id": "CFS0RjD2JOPC"
      },
      "outputs": [],
      "source": [
        "k_fold = KFold(n_splits=5)\n",
        "for train_indices, test_indices in k_fold.split(x):\n",
        "    print(np.nanmean(x[train_indices, 1]))"
      ]
    },
    {
      "cell_type": "markdown",
      "metadata": {
        "id": "lfr6t_Y3JOPC"
      },
      "source": [
        "As you can see the value of that mean differs for each fold. This is why is important to do it inside the fold validation loop."
      ]
    },
    {
      "cell_type": "markdown",
      "metadata": {
        "id": "C5zpJoPRJOPC"
      },
      "source": [
        "### Data transformation"
      ]
    },
    {
      "cell_type": "markdown",
      "metadata": {
        "id": "alJhq646JOPC"
      },
      "source": [
        "Many algorithms work better when the data are inside a specific range, or when all the data have similar ranges. This is not the case for all the algorithms (some work equally well with unnormalised or normalised data)."
      ]
    },
    {
      "cell_type": "markdown",
      "metadata": {
        "id": "rG4UcHd-JOPC"
      },
      "source": [
        "#### Data-clipping"
      ]
    },
    {
      "cell_type": "markdown",
      "metadata": {
        "id": "rlp5EtOhJOPC"
      },
      "source": [
        "One option is to just set predefined maximum and minimum values. For this, we can use the `clip` method from numpy."
      ]
    },
    {
      "cell_type": "markdown",
      "metadata": {
        "id": "b8e1l7GDJOPC"
      },
      "source": [
        "#### Scaling and Normalization"
      ]
    },
    {
      "cell_type": "markdown",
      "metadata": {
        "id": "Ej4HvzV3JOPD"
      },
      "source": [
        "In the same way, as with the missing data, a better practice is to perfform this procedure in a data-driven manner. For this, sklearn provides several options in its 'preprocessing' package. As before, this normalisation step should be included inside the cross validation loop as well."
      ]
    },
    {
      "cell_type": "code",
      "execution_count": null,
      "metadata": {
        "id": "6yNXOPpaJOPD"
      },
      "outputs": [],
      "source": [
        "from sklearn.preprocessing import StandardScaler\n",
        "k_fold = KFold(n_splits=5)\n",
        "x_or = x.copy() # We make a copy of our data to avoid overwriting\n",
        "for train_indices, test_indices in k_fold.split(x):\n",
        "    mean = np.nanmean(x_or[train_indices, 1])\n",
        "    x[np.isnan(x_or[:,1]), 1] = mean # We substitute the missing values for the mean\n",
        "    ss = StandardScaler()\n",
        "    ss.fit(x[train_indices, :])\n",
        "    x_train = ss.transform(x[train_indices, :])\n",
        "    x_test = ss.transform(x[test_indices, :])"
      ]
    },
    {
      "cell_type": "markdown",
      "metadata": {
        "id": "nfTAtEqFJOPD"
      },
      "source": [
        "In this example we see something that is common in many methods in the sklearn package, the division between `fit` and `transform`. These allow to the creation of pipelines which help streamline the modeling of different methods."
      ]
    },
    {
      "cell_type": "markdown",
      "metadata": {
        "id": "cAiFIe-jJOPD"
      },
      "source": [
        "## Exercise"
      ]
    },
    {
      "cell_type": "markdown",
      "metadata": {
        "id": "D8kYYB-jJOPD"
      },
      "source": [
        "Using what you have learned in this notebook, prepare the data from the file 'lizards.csv'. Note that in this case you need to manipulate the 'Label' column as well."
      ]
    },
    {
      "cell_type": "markdown",
      "metadata": {
        "id": "0j6eoMSBJOPD"
      },
      "source": [
        "### Extra 1"
      ]
    },
    {
      "cell_type": "markdown",
      "metadata": {
        "id": "BqPtcLEZJOPD"
      },
      "source": [
        "For the lizards dataset, the columns 'Date' and 'Hour' could be merged, into a single value (even directly upon reading the CSV file). Explore how to do it either in Pandas or Numpy."
      ]
    },
    {
      "cell_type": "markdown",
      "metadata": {
        "id": "K2NI7-rsJOPD"
      },
      "source": [
        "### Extra 2"
      ]
    },
    {
      "cell_type": "markdown",
      "metadata": {
        "id": "AspdEhQ9JOPD"
      },
      "source": [
        "This file indicates the position (East, North) where some lizards were seen. Each lizard has an ID (ID_e) and has been spotted several times. To infeer the position for those samples where there is no available data, instead of using the mean (or any other imputation method) based on the whole training set, try to calculate the mean (or other statistical value) for that specific lizard based on the training data. Note that, depending on how you divide the data, there could be unknown data in the test set for a lizard that was not included in the training data. Think of a possible way to deal with this issue."
      ]
    },
    {
      "cell_type": "markdown",
      "metadata": {
        "id": "60pqLIpnJOPE"
      },
      "source": [
        "## Further reading on Pandas\n",
        "\n",
        "Pandas is a key python library for datascience.  There's a good youtube tutorial on it here https://www.youtube.com/watch?v=dPwLlJkSHLo "
      ]
    }
  ],
  "metadata": {
    "kernelspec": {
      "display_name": "Python 3 (ipykernel)",
      "language": "python",
      "name": "python3"
    },
    "language_info": {
      "codemirror_mode": {
        "name": "ipython",
        "version": 3
      },
      "file_extension": ".py",
      "mimetype": "text/x-python",
      "name": "python",
      "nbconvert_exporter": "python",
      "pygments_lexer": "ipython3",
      "version": "3.10.4"
    },
    "colab": {
      "name": "1 Pandas and preprocessing in scikit-learn.ipynb",
      "provenance": []
    }
  },
  "nbformat": 4,
  "nbformat_minor": 0
}